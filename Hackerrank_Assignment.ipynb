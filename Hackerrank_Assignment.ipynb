{
  "cells": [
    {
      "cell_type": "markdown",
      "metadata": {
        "id": "Z0uep0ZLkJPy"
      },
      "source": [
        "## <center><u>Python Intermediate Challenge-1</u></center>\n",
        "\n",
        "\n",
        "54% of the respondents from the O'Reilly Data Science Salary Survey indicated that they used Python as a data science tool. Nobody can deny that Python has been on the rise in the data science industry and it certainly seems that it's here to stay.\n",
        "This rise in popularity in the industry, the long gone infancy of Python packages for data analysis, the low and gradual learning curve and the fact that it is a fully fledged programming language are only a couple of reasons that make Python an exceptional tool for data science.\n",
        "Although Python is a very readable language, you might still be able to use some help.\n",
        "\n",
        "You will be facing some challenging questions on python in this assignment. Below following steps would help you to complete this assignment:\n",
        "\n",
        "`1. Read the question\n",
        "2. Go to the link given under the question\n",
        "3. You will land on Hakerrank page, if not then create your Hakerrank account.\n",
        "4. Once you land on hankerank page mentioned under question, go through the given problem carefully.\n",
        "5. Solve it in the editor given in the page. Select python3 as your language in the editor and click 'Run Code' Button\n",
        "6. Once you have passed all the sample test cases, write your solution in this assignment against each question.`\n",
        "\n",
        "\n",
        "If you need any assistence on python, then please refer below cheatsheets:\n",
        "\n",
        "Cheatsheet reference: http://datacamp-community-prod.s3.amazonaws.com/0eff0330-e87d-4c34-88d5-73e80cb955f2\n",
        "\n",
        "\n",
        "\n",
        "    "
      ]
    },
    {
      "cell_type": "markdown",
      "metadata": {
        "id": "Kee3k6DckJP0"
      },
      "source": [
        "#### Q1 Python If-Else\n",
        "\n",
        "link - https://www.hackerrank.com/challenges/py-if-else/problem"
      ]
    },
    {
      "cell_type": "code",
      "execution_count": 1,
      "metadata": {
        "colab": {
          "base_uri": "https://localhost:8080/"
        },
        "id": "34Uq4aU3kJP0",
        "outputId": "73ec3485-c77b-4639-e68e-00538d7ca75c"
      },
      "outputs": [
        {
          "output_type": "stream",
          "name": "stdout",
          "text": [
            "3\n",
            "Weird\n"
          ]
        }
      ],
      "source": [
        "import math\n",
        "import os\n",
        "import random\n",
        "import re\n",
        "import sys\n",
        "\n",
        "if __name__ == '__main__':\n",
        "   N = int(input().strip())\n",
        "if (N%2 == 1):\n",
        "    print(\"Weird\")\n",
        "elif (2<=N<=5):\n",
        "    print(\"Not Weird\")\n",
        "elif(6<=N<=20):\n",
        "    print(\"Weird\")\n",
        "else:\n",
        "    print(\"Not Weird\")"
      ]
    },
    {
      "cell_type": "markdown",
      "metadata": {
        "id": "sHsYtKPikJP1"
      },
      "source": [
        "#### Q2 Arithmetic Operators\n",
        "\n",
        "link - https://www.hackerrank.com/challenges/python-arithmetic-operators/problem"
      ]
    },
    {
      "cell_type": "code",
      "execution_count": 2,
      "metadata": {
        "colab": {
          "base_uri": "https://localhost:8080/"
        },
        "id": "iCWjGS-HkJP1",
        "outputId": "07bf4be2-af32-4391-ed55-9930b7bf37e7"
      },
      "outputs": [
        {
          "output_type": "stream",
          "name": "stdout",
          "text": [
            "2\n",
            "3\n",
            "5\n",
            "-1\n",
            "6\n"
          ]
        }
      ],
      "source": [
        "if __name__ == '__main__':\n",
        "    a = int(input())\n",
        "    b = int(input())\n",
        "\n",
        "print(a + b)\n",
        "print(a -b)\n",
        "print(a*b)"
      ]
    },
    {
      "cell_type": "markdown",
      "metadata": {
        "id": "YRWTj2u6kJP1"
      },
      "source": [
        "#### Q3 Print Function\n",
        "\n",
        "link - https://www.hackerrank.com/challenges/python-print/problem"
      ]
    },
    {
      "cell_type": "code",
      "execution_count": 4,
      "metadata": {
        "colab": {
          "base_uri": "https://localhost:8080/"
        },
        "id": "HdNOtJd9kJP1",
        "outputId": "b39b3eea-08b6-49d4-d8e9-d6cfcea01012"
      },
      "outputs": [
        {
          "output_type": "stream",
          "name": "stdout",
          "text": [
            "3\n",
            "123\n"
          ]
        }
      ],
      "source": [
        "n = int(input())\n",
        "print(''.join(str(i) for i in range(1, n + 1)))"
      ]
    },
    {
      "cell_type": "markdown",
      "metadata": {
        "id": "oGJd3IQDkJP2"
      },
      "source": [
        "#### Q4 Write a function\n",
        "\n",
        "link - https://www.hackerrank.com/challenges/write-a-function/problem"
      ]
    },
    {
      "cell_type": "code",
      "execution_count": 7,
      "metadata": {
        "id": "4pJeBZ-skJP2"
      },
      "outputs": [],
      "source": [
        "def is_leap(year):\n",
        "    leap = False\n",
        "\n",
        "    # Write your logic here\n",
        "    if(year % 4 == 0) :\n",
        "        if(year % 100 ==0) and (year % 400 ==0):\n",
        "            leap=True\n",
        "    else :\n",
        "        leap=False\n",
        "    # Write your logic here\n",
        "    return leap"
      ]
    },
    {
      "cell_type": "markdown",
      "metadata": {
        "id": "Zg-02KBzkJP2"
      },
      "source": [
        "#### Q5 List Comprehensions\n",
        "\n",
        "link - https://www.hackerrank.com/challenges/list-comprehensions/problem"
      ]
    },
    {
      "cell_type": "code",
      "execution_count": 8,
      "metadata": {
        "colab": {
          "base_uri": "https://localhost:8080/"
        },
        "id": "p7iiyE3skJP2",
        "outputId": "4e5c2a87-ed8d-412f-c252-709dfbea11eb"
      },
      "outputs": [
        {
          "output_type": "stream",
          "name": "stdout",
          "text": [
            "1\n",
            "1\n",
            "1\n",
            "1\n",
            "[[0, 0, 0], [0, 1, 1], [1, 0, 1], [1, 1, 0], [1, 1, 1]]\n"
          ]
        }
      ],
      "source": [
        "if __name__ == '__main__':\n",
        "    x = int(input())\n",
        "    y = int(input())\n",
        "    z = int(input())\n",
        "    n = int(input())\n",
        "ans=[]\n",
        "for i in range(x+1):\n",
        "    for j in range(y+1):\n",
        "        for k in range(z+1):\n",
        "            if i+j+k!=n:\n",
        "                ans.append([i,j,k])\n",
        "print(ans)"
      ]
    },
    {
      "cell_type": "markdown",
      "metadata": {
        "id": "4Pr654rtkJP2"
      },
      "source": [
        "#### Q6 Find the Runner-Up Score!\n",
        "\n",
        "link - https://www.hackerrank.com/challenges/find-second-maximum-number-in-a-list/problem"
      ]
    },
    {
      "cell_type": "code",
      "execution_count": 12,
      "metadata": {
        "colab": {
          "base_uri": "https://localhost:8080/"
        },
        "id": "4nnI87-pkJP2",
        "outputId": "e3a2baab-f980-4c83-d03e-f955c768979c"
      },
      "outputs": [
        {
          "output_type": "stream",
          "name": "stdout",
          "text": [
            "1\n",
            "2\n",
            "-6000\n"
          ]
        }
      ],
      "source": [
        "n = int(input())\n",
        "numb = input()\n",
        "lis = list(map(int, numb.split()))\n",
        "big, sbig = -6000, -6000\n",
        "for i in lis:\n",
        "    if (i > big):\n",
        "        big, sbig = i, big\n",
        "    elif (i < big and i > sbig):\n",
        "        sbig = i\n",
        "print (sbig)"
      ]
    },
    {
      "cell_type": "markdown",
      "metadata": {
        "id": "sLvLFM5ckJP2"
      },
      "source": [
        "#### Q7 Nested Lists\n",
        "\n",
        "link - https://www.hackerrank.com/challenges/nested-list/problem"
      ]
    },
    {
      "cell_type": "code",
      "execution_count": 13,
      "metadata": {
        "colab": {
          "base_uri": "https://localhost:8080/"
        },
        "id": "bz2HePsgkJP3",
        "outputId": "96263d1c-3533-442a-d3a7-83fa9b605b7f"
      },
      "outputs": [
        {
          "output_type": "stream",
          "name": "stdout",
          "text": [
            "5\n",
            "lalli\n",
            "10\n",
            "Jaga\n",
            "15\n",
            "Paddu\n",
            "40\n",
            "Devika\n",
            "10\n",
            "gayathri\n",
            "15\n",
            "Jaga\n",
            "gayathri\n"
          ]
        }
      ],
      "source": [
        "N = int(input())\n",
        "final = list()\n",
        "for i in range(N):\n",
        "    lst = list()\n",
        "    name = str(input())\n",
        "    marks = float(input())\n",
        "    lst.append(name)\n",
        "    lst.append(marks)\n",
        "    final.append(lst)\n",
        "k = list()\n",
        "for i in range(len(final)):\n",
        "    k.append(final[i][1])\n",
        "x = min(k)\n",
        "k1 = list()\n",
        "for i in range(len(k)):\n",
        "    if x != k[i]:\n",
        "        k1.append(k[i])\n",
        "y = min(k1)\n",
        "student = list()\n",
        "for i in range(len(final)):\n",
        "    if y == final[i][1]:\n",
        "        student.append(final[i][0])\n",
        "student.sort()\n",
        "for i in range(len(student)):\n",
        "    print(student[i])"
      ]
    },
    {
      "cell_type": "markdown",
      "metadata": {
        "id": "4IbI-GRekJP3"
      },
      "source": [
        "#### Q8 Finding the percentage\n",
        "\n",
        "link - https://www.hackerrank.com/challenges/finding-the-percentage/problem"
      ]
    },
    {
      "cell_type": "code",
      "execution_count": 20,
      "metadata": {
        "colab": {
          "base_uri": "https://localhost:8080/"
        },
        "id": "LUtwD1p9kJP3",
        "outputId": "72770897-a351-43ad-b164-3ab2744fb080"
      },
      "outputs": [
        {
          "output_type": "stream",
          "name": "stdout",
          "text": [
            "3\n",
            "krishna 67 68 69\n",
            "Arjun 70 98 63\n",
            "Malika 52 56 60\n",
            "Malika\n",
            "56.00\n"
          ]
        }
      ],
      "source": [
        "N = int(input())\n",
        "marks = 3\n",
        "temp = []\n",
        "students = {}\n",
        "while N > 0:\n",
        "\ttemp = [ x for x in input().split()]\n",
        "\tsum = 0\n",
        "\tfor mar in range(1,marks+1):\n",
        "\t\tsum += float(temp[mar])\n",
        "\tstudents[temp[0]] = sum/marks\n",
        "\tN -= 1\n",
        "\n",
        "name = input()\n",
        "print(\"%.2f\" %students[name])"
      ]
    },
    {
      "cell_type": "markdown",
      "metadata": {
        "id": "kRoH1VW4kJP3"
      },
      "source": [
        "#### Q9 Lists\n",
        "\n",
        "link - https://www.hackerrank.com/challenges/python-lists/problem"
      ]
    },
    {
      "cell_type": "code",
      "execution_count": 21,
      "metadata": {
        "colab": {
          "base_uri": "https://localhost:8080/"
        },
        "id": "0KzxW20HkJP3",
        "outputId": "8fe4b2be-9b88-49dc-b945-00113bfba524"
      },
      "outputs": [
        {
          "name": "stdout",
          "output_type": "stream",
          "text": [
            "12\n",
            "insert 0 5\n",
            "insert 1 10\n",
            "insert  0 6\n",
            "print\n",
            "[6, 5, 10]\n",
            "remove 6\n",
            "append 9\n",
            "append 1\n",
            "sort\n",
            "pop\n",
            "reverse\n",
            "print\n",
            "[9, 5, 1]\n",
            "end\n"
          ]
        }
      ],
      "source": [
        "test =int(input())\n",
        "s=[]\n",
        "for _ in range (test):\n",
        "    cmd=list(input().split())\n",
        "\n",
        "    if cmd[0]=='insert':\n",
        "        s.insert(int(cmd[1]),int(cmd[2]))\n",
        "    elif cmd[0]==\"remove\":\n",
        "        s.remove(int(cmd[1]))\n",
        "    elif cmd[0]==\"append\":\n",
        "        s.append(int(cmd[1]))\n",
        "    elif cmd[0]==\"sort\":\n",
        "        s.sort()\n",
        "    elif cmd[0]==\"pop\":\n",
        "        s.pop()\n",
        "    elif cmd[0]==\"reverse\":\n",
        "        s.reverse()\n",
        "    elif cmd[0]==\"count\":\n",
        "        v=s.count(int(cmd[1]))\n",
        "        print(v)\n",
        "    elif cmd[0]==\"index\":\n",
        "        x=s.index(int(cmd[1]))\n",
        "        print(x)\n",
        "\n",
        "    elif cmd[0]== 'print':\n",
        "        print(s)"
      ]
    },
    {
      "cell_type": "markdown",
      "metadata": {
        "id": "yGj1jmlrkJP3"
      },
      "source": [
        "#### Q10 Tuples\n",
        "\n",
        "\n",
        "link - https://www.hackerrank.com/challenges/python-tuples/problem"
      ]
    },
    {
      "cell_type": "code",
      "execution_count": null,
      "metadata": {
        "id": "IDaKCwDdkJP3"
      },
      "outputs": [],
      "source": [
        "if __name__ == '__main__':\n",
        "    n = int(input())\n",
        "    integer_list = map(int, input().split())\n",
        "    integer_list = tuple(integer_list)\n",
        "    hashed = hash(integer_list)\n",
        "    print(hashed)"
      ]
    },
    {
      "cell_type": "markdown",
      "metadata": {
        "id": "OPGVcAJ6kJP3"
      },
      "source": [
        "#### Q11 The Minion Game\n",
        "\n",
        "link - https://www.hackerrank.com/challenges/the-minion-game/problem"
      ]
    },
    {
      "cell_type": "code",
      "execution_count": 47,
      "metadata": {
        "colab": {
          "base_uri": "https://localhost:8080/"
        },
        "id": "vl1Nmqn5kJP4",
        "outputId": "4fbe51ef-088b-488f-d0b6-05967835cd23"
      },
      "outputs": [
        {
          "output_type": "stream",
          "name": "stdout",
          "text": [
            "BANANA\n",
            "Stuart 12\n"
          ]
        }
      ],
      "source": [
        "def minion_game(s):\n",
        "    count_kevin = 0\n",
        "    count_stuart = 0\n",
        "    vowels = 'AEIOU'\n",
        "    for i in range(len(s)):\n",
        "        if (s[i] in vowels):\n",
        "            count_kevin += len(s) - i\n",
        "        else:\n",
        "            count_stuart += len(s) - i\n",
        "\n",
        "    if (count_stuart == count_kevin):\n",
        "        print(\"Draw\")\n",
        "    else:\n",
        "        print(f\"Kevin {count_kevin}\" if count_kevin > count_stuart else f\"Stuart {count_stuart}\")\n",
        "\n",
        "\n",
        "if __name__ == '__main__':\n",
        "    s = input()\n",
        "    minion_game(s)"
      ]
    },
    {
      "cell_type": "markdown",
      "metadata": {
        "id": "5oVqOVoakJP4"
      },
      "source": [
        "#### Q12 Designer door mat\n",
        "\n",
        "link - https://www.hackerrank.com/challenges/designer-door-mat/problem"
      ]
    },
    {
      "cell_type": "code",
      "execution_count": 23,
      "metadata": {
        "colab": {
          "base_uri": "https://localhost:8080/"
        },
        "id": "T3JG8ycbkJP4",
        "outputId": "c6bdeba8-f890-454f-f36f-7490a79019c8"
      },
      "outputs": [
        {
          "output_type": "stream",
          "name": "stdout",
          "text": [
            "7 21\n",
            "---------.|.---------\n",
            "------.|..|..|.------\n",
            "---.|..|..|..|..|.---\n",
            "-------WELCOME-------\n",
            "---.|..|..|..|..|.---\n",
            "------.|..|..|.------\n",
            "---------.|.---------\n"
          ]
        }
      ],
      "source": [
        "N, M = map(int,input().split()) # More than 6 lines of code will result in 0 score. Blank lines are not counted.\n",
        "for i in range(1,N,2):\n",
        "    print(((M-3*i)//2)*'-'+i*'.|.'+((M-3*i)//2)*'-')\n",
        "print(((M-7)//2)*'-'+'WELCOME'+((M-7)//2)*'-')\n",
        "for i in range(N-2,-1,-2):\n",
        "    print(((M-3*i)//2)*'-'+i*'.|.'+((M-3*i)//2)*'-')"
      ]
    },
    {
      "cell_type": "markdown",
      "metadata": {
        "id": "4coKTzLqkJP4"
      },
      "source": [
        "#### Q13 Merge the tools\n",
        "\n",
        "link - https://www.hackerrank.com/challenges/merge-the-tools/problem"
      ]
    },
    {
      "cell_type": "code",
      "execution_count": 48,
      "metadata": {
        "colab": {
          "base_uri": "https://localhost:8080/"
        },
        "id": "SW8-f5yCkJP4",
        "outputId": "d14c5f25-b828-416c-9bad-fdb555b1c08e"
      },
      "outputs": [
        {
          "output_type": "stream",
          "name": "stdout",
          "text": [
            "AABCAAADA\n",
            "3\n",
            "AB\n",
            "CA\n",
            "AD\n",
            "\n"
          ]
        }
      ],
      "source": [
        "from collections import OrderedDict\n",
        "\n",
        "def remove_duplicates_ordered(input_string):\n",
        "    return \"\".join(OrderedDict.fromkeys(input_string))\n",
        "\n",
        "def merge_the_tools(s, k):\n",
        "    sub_strings = [s[i * k:i * k + k] for i in range(0, k + 1)]\n",
        "    sub_strings = [remove_duplicates_ordered(sub_string) for sub_string in sub_strings]\n",
        "    for sub_string in sub_strings:\n",
        "        print(sub_string)\n",
        "\n",
        "if __name__ == '__main__':\n",
        "    string, k = input(), int(input())\n",
        "    merge_the_tools(string, k)"
      ]
    },
    {
      "cell_type": "markdown",
      "metadata": {
        "id": "6Hc2Pnc6kJP4"
      },
      "source": [
        "#### Q14 find a string\n",
        "\n",
        "link - https://www.hackerrank.com/challenges/find-a-string/problem"
      ]
    },
    {
      "cell_type": "code",
      "execution_count": 50,
      "metadata": {
        "colab": {
          "base_uri": "https://localhost:8080/"
        },
        "id": "VloTdDawkJP4",
        "outputId": "461e0071-ad16-43f0-d510-652646beb4cd"
      },
      "outputs": [
        {
          "output_type": "stream",
          "name": "stdout",
          "text": [
            "ABCDCDC\n",
            "CDC\n",
            "2\n"
          ]
        }
      ],
      "source": [
        "def count_substring(string, sub_string):\n",
        "    count=0\n",
        "    for i in range(0,len(string)):\n",
        "         if string[i:].startswith(sub_string):\n",
        "             count+=1\n",
        "    return count\n",
        "\n",
        "if __name__ == '__main__':\n",
        "    string = input().strip()\n",
        "    sub_string = input().strip()\n",
        "\n",
        "    count = count_substring(string, sub_string)\n",
        "    print(count)\n",
        "\n",
        "\n",
        "\n",
        "\n",
        "\n",
        "\n",
        "\n",
        "\n",
        "\n"
      ]
    },
    {
      "cell_type": "markdown",
      "metadata": {
        "id": "JL8QZD1YkJP4"
      },
      "source": [
        "#### Q15 no idea\n",
        "\n",
        "link - https://www.hackerrank.com/challenges/no-idea/problem"
      ]
    },
    {
      "cell_type": "code",
      "execution_count": 45,
      "metadata": {
        "colab": {
          "base_uri": "https://localhost:8080/"
        },
        "id": "rD0KsMyikJP4",
        "outputId": "e6ecb07b-57ff-4664-d17f-fbe3074454f5"
      },
      "outputs": [
        {
          "output_type": "stream",
          "name": "stdout",
          "text": [
            "3 2\n",
            "1 5 3\n",
            "3 1\n",
            "5 7\n",
            "1\n"
          ]
        }
      ],
      "source": [
        "import collections\n",
        "\n",
        "\n",
        "n, m = input().split()\n",
        "n = int(n)\n",
        "m = int(m)\n",
        "l = list(map(int, input().split()))\n",
        "repeated_l = {item: count for item, count in collections.Counter(l).items() if count > 1}\n",
        "A = set(list(map(int, input().split())))\n",
        "B = set(list(map(int, input().split())))\n",
        "happiness = 0\n",
        "happiness += len(A.intersection(l))\n",
        "happiness -= len(B.intersection(l))\n",
        "for key, val in repeated_l.items():\n",
        "    if key in A:\n",
        "        happiness += (val - 1)\n",
        "    elif key in B:\n",
        "        happiness -= (val - 1)\n",
        "print(happiness)\n"
      ]
    },
    {
      "cell_type": "markdown",
      "metadata": {
        "id": "NXaBxA08kJP4"
      },
      "source": [
        "#### Q16 Symmetric difference set\n",
        "\n",
        "link - https://www.hackerrank.com/challenges/py-set-symmetric-difference-operation/problem\n"
      ]
    },
    {
      "cell_type": "code",
      "execution_count": 44,
      "metadata": {
        "colab": {
          "base_uri": "https://localhost:8080/"
        },
        "id": "b90CMhiEkJP4",
        "outputId": "5bbbad7d-67ff-4234-bb26-a091cadf1447"
      },
      "outputs": [
        {
          "output_type": "stream",
          "name": "stdout",
          "text": [
            "9\n",
            "1 2 3 4 5 6 7 8 9\n",
            "9\n",
            "10 1 2 3 11 21 55 6 8\n",
            "8\n"
          ]
        }
      ],
      "source": [
        "E = int(input())\n",
        "English = set(input().split())\n",
        "\n",
        "F = int(input())\n",
        "French = set(input().split())\n",
        "\n",
        "print(len(English ^ French))\n"
      ]
    },
    {
      "cell_type": "markdown",
      "metadata": {
        "id": "Qs6-YCHqkJP4"
      },
      "source": [
        "#### Q17 lambda map expression\n",
        "\n",
        "link - https://www.hackerrank.com/challenges/map-and-lambda-expression/problem"
      ]
    },
    {
      "cell_type": "code",
      "execution_count": 51,
      "metadata": {
        "colab": {
          "base_uri": "https://localhost:8080/"
        },
        "id": "rW3e0si_kJP5",
        "outputId": "1497dd2b-dd56-4df9-b6e2-5c5640a0cd86"
      },
      "outputs": [
        {
          "output_type": "stream",
          "name": "stdout",
          "text": [
            "5\n",
            "[0, 1, 1, 8, 27]\n"
          ]
        }
      ],
      "source": [
        "cube = lambda x: x**3 # complete the lambda function\n",
        "\n",
        "def fibonacci(n):\n",
        "    # return a list of fibonacci numbers\n",
        "     a,b=0,1\n",
        "     for i in range(n):\n",
        "         yield a\n",
        "         a,b=b,a+b\n",
        "\n",
        "if __name__ == '__main__':\n",
        "    n = int(input())\n",
        "    print(list(map(cube, fibonacci(n))))\n",
        "\n",
        "\n",
        "\n",
        "\n",
        "\n",
        "\n",
        "\n"
      ]
    },
    {
      "cell_type": "markdown",
      "metadata": {
        "id": "ha1erDV7kJP5"
      },
      "source": [
        "#### Q18. validate list of email address\n",
        "\n",
        "link - https://www.hackerrank.com/challenges/validate-list-of-email-address-with-filter/problem\n"
      ]
    },
    {
      "cell_type": "code",
      "execution_count": 43,
      "metadata": {
        "colab": {
          "base_uri": "https://localhost:8080/"
        },
        "id": "7hrlO_0AkJP5",
        "outputId": "088acd97-cf25-4794-a717-9751bce40126"
      },
      "outputs": [
        {
          "output_type": "stream",
          "name": "stdout",
          "text": [
            "3\n",
            "lara@hackerrank.com\n",
            "brian-23@hackerrank.com\n",
            "britts_54@hackerrank.com\n",
            "['brian-23@hackerrank.com', 'britts_54@hackerrank.com', 'lara@hackerrank.com']\n"
          ]
        }
      ],
      "source": [
        "def fun(s):\n",
        "    # return True if s is a valid email, else return False\n",
        "    if s.count('@') != 1 or s.count('.') != 1: return False\n",
        "    un, web = s.split('@')\n",
        "    wn, ext = web.split('.')\n",
        "    return un.replace('-', '').replace('_', '').isalnum() and wn.isalnum() and ext.isalpha() and len(ext) <= 3\n",
        "def filter_mail(emails):\n",
        "    return list(filter(fun, emails))\n",
        "\n",
        "if __name__ == '__main__':\n",
        "    n = int(input())\n",
        "    emails = []\n",
        "    for _ in range(n):\n",
        "        emails.append(input())\n",
        "\n",
        "filtered_emails = filter_mail(emails)\n",
        "filtered_emails.sort()\n",
        "print(filtered_emails)\n",
        "\n",
        "\n",
        "\n",
        "\n",
        "\n",
        "\n",
        "\n",
        "\n",
        "\n"
      ]
    },
    {
      "cell_type": "markdown",
      "metadata": {
        "id": "c_2VybctkJP5"
      },
      "source": [
        "#### Q19 reduce function problem\n",
        "\n",
        "link - https://www.hackerrank.com/challenges/reduce-function/problem\n"
      ]
    },
    {
      "cell_type": "code",
      "execution_count": 42,
      "metadata": {
        "colab": {
          "base_uri": "https://localhost:8080/"
        },
        "id": "z1feqLadkJP5",
        "outputId": "62800044-6b40-48aa-f0d7-9db32b58aa8e"
      },
      "outputs": [
        {
          "output_type": "stream",
          "name": "stdout",
          "text": [
            "3\n",
            "1 2\n",
            "3 4\n",
            "10 6\n",
            "5 8\n"
          ]
        }
      ],
      "source": [
        "from fractions import Fraction\n",
        "from functools import reduce\n",
        "def product(fracs):\n",
        "    t = reduce(lambda x,y : x * y, fracs, 1);\n",
        "    return t.numerator, t.denominator\n",
        "\n",
        "if __name__ == '__main__':\n",
        "    fracs = []\n",
        "    for _ in range(int(input())):\n",
        "        fracs.append(Fraction(*map(int, input().split())))\n",
        "    result = product(fracs)\n",
        "    print(*result)"
      ]
    },
    {
      "cell_type": "markdown",
      "metadata": {
        "id": "zAjgIfc3kJQA"
      },
      "source": [
        "#### Q20 collection counter problem\n",
        "\n",
        "link - https://www.hackerrank.com/challenges/collections-counter/problem\n"
      ]
    },
    {
      "cell_type": "code",
      "execution_count": 41,
      "metadata": {
        "colab": {
          "base_uri": "https://localhost:8080/"
        },
        "id": "oFKS9GnakJQA",
        "outputId": "fa7fe4d4-c216-4f68-dfc6-fe199560cb53"
      },
      "outputs": [
        {
          "output_type": "stream",
          "name": "stdout",
          "text": [
            "10\n",
            "2 3 4 5 6 8 7 6 5 18\n",
            "6\n",
            "6 55\n",
            "6 45\n",
            " 6 55\n",
            "4 40\n",
            "18 60\n",
            "10 50\n",
            "200\n"
          ]
        }
      ],
      "source": [
        "from collections import Counter\n",
        "x = int(input())\n",
        "sizes = list(map(int,input().split()))\n",
        "n = int(input())\n",
        "sizes = Counter(sizes)\n",
        "pr = 0\n",
        "for i in range(n):\n",
        "    sz,pz = map(int,input().split())\n",
        "    if(sizes[sz]):\n",
        "        sizes[sz] -= 1\n",
        "        pr += pz\n",
        "print(pr)"
      ]
    },
    {
      "cell_type": "markdown",
      "metadata": {
        "id": "SPf2_ClakJQA"
      },
      "source": [
        "#### Q21 collections namedtuple\n",
        "\n",
        "link - https://www.hackerrank.com/challenges/py-collections-namedtuple/problem\n"
      ]
    },
    {
      "cell_type": "code",
      "execution_count": null,
      "metadata": {
        "id": "Zl8QyEqmkJQA"
      },
      "outputs": [],
      "source": [
        "from collections import namedtuple\n",
        "n=int(input())\n",
        "Info=namedtuple('Info',input())\n",
        "s=''\n",
        "sum=0\n",
        "\n",
        "for x in range(n):\n",
        "    a,b,c,d=input().split()\n",
        "    s=Info(a,b,c,d)\n",
        "    sum+=int(s.MARKS)\n",
        "print(round(sum/float(n),2))"
      ]
    },
    {
      "cell_type": "markdown",
      "metadata": {
        "id": "K_Tse_PzkJQA"
      },
      "source": [
        "#### Q22 default dict\n",
        "\n",
        "link -\n",
        "https://www.hackerrank.com/challenges/defaultdict-tutorial/problem\n"
      ]
    },
    {
      "cell_type": "code",
      "execution_count": 34,
      "metadata": {
        "colab": {
          "base_uri": "https://localhost:8080/"
        },
        "id": "3rEaUzElkJQB",
        "outputId": "4282c5e5-7ea2-43ec-e328-77bfd1dafc9c"
      },
      "outputs": [
        {
          "output_type": "stream",
          "name": "stdout",
          "text": [
            "5 2\n",
            "a\n",
            "\n",
            "a\n",
            "b\n",
            "a\n",
            "b\n",
            "4\n",
            "a\n",
            "1 3 5\n"
          ]
        }
      ],
      "source": [
        "from collections import defaultdict\n",
        "\n",
        "\n",
        "n, m = input().split()\n",
        "n = int(n)\n",
        "m = int(m)\n",
        "d = defaultdict(list)\n",
        "for i in range(n):\n",
        "    d['A'].append(input())\n",
        "l = d['A']\n",
        "for i in range(m):\n",
        "    val = input()\n",
        "    count = 1\n",
        "    new_l = []\n",
        "    for j in l:\n",
        "        if j == val:\n",
        "            new_l.append(count)\n",
        "        count += 1\n",
        "    if len(new_l) == 0:\n",
        "        print(-1)\n",
        "    else:\n",
        "        print(\" \".join(map(str, new_l)))\n",
        "\n",
        "\n",
        "\n",
        "\n",
        "\n",
        "\n",
        "\n"
      ]
    },
    {
      "cell_type": "markdown",
      "metadata": {
        "id": "YLlsoNFjkJQB"
      },
      "source": [
        "#### Q23 Ordered dict\n",
        "\n",
        "link - https://www.hackerrank.com/challenges/py-collections-ordereddict/problem\n"
      ]
    },
    {
      "cell_type": "code",
      "execution_count": 33,
      "metadata": {
        "colab": {
          "base_uri": "https://localhost:8080/"
        },
        "id": "nFesO5dSkJQB",
        "outputId": "603626e8-3ad5-4040-c925-a7513b2c7ec0"
      },
      "outputs": [
        {
          "output_type": "stream",
          "name": "stdout",
          "text": [
            "9\n",
            "BANANA FRIES 12\n",
            "POTATO CHIPS 30\n",
            "APPLE JUICE 10\n",
            "CANDY 5\n",
            " APPLE JUICE 10\n",
            "CANDY 5\n",
            "CANDY 5\n",
            "CANDY 5\n",
            "POTATO CHIPS 30\n",
            "BANANA FRIES 12\n",
            "POTATO CHIPS 60\n",
            "APPLE JUICE 20\n",
            "CANDY 20\n"
          ]
        }
      ],
      "source": [
        "from collections import OrderedDict\n",
        "t = int(input())\n",
        "items = OrderedDict()\n",
        "for _ in range(t):\n",
        "    s = input().split()\n",
        "    if ' '.join(s[0:len(s)-1]) in items:\n",
        "        items[' '.join(s[0:len(s)-1])] += int(s[-1])\n",
        "    else:\n",
        "        items[' '.join(s[0:len(s)-1])] = int(s[-1])\n",
        "    #print(items[' '.join(s[0:len(s)-1])])\n",
        "for item in items:\n",
        "    print(item,items[item])"
      ]
    },
    {
      "cell_type": "markdown",
      "metadata": {
        "id": "zmAiCQ6zkJQB"
      },
      "source": [
        "#### Q24 word order\n",
        "\n",
        "link - https://www.hackerrank.com/challenges/word-order/problem\n"
      ]
    },
    {
      "cell_type": "code",
      "execution_count": 32,
      "metadata": {
        "colab": {
          "base_uri": "https://localhost:8080/"
        },
        "id": "JHD3Jk2zkJQB",
        "outputId": "c41203bf-c2bd-471d-81e9-e7e0ba357b94"
      },
      "outputs": [
        {
          "output_type": "stream",
          "name": "stdout",
          "text": [
            "4\n",
            "bcdef\n",
            "abcdefg\n",
            "bcde\n",
            "bcdef\n",
            "3\n",
            "2 1 1\n"
          ]
        }
      ],
      "source": [
        "import collections\n",
        "\n",
        "\n",
        "n = int(input())\n",
        "l = []\n",
        "for i in range(n):\n",
        "    l.append(input())\n",
        "repeated_l = collections.OrderedDict(collections.Counter(l).items())\n",
        "print(len(repeated_l))\n",
        "s = \"\"\n",
        "keys = repeated_l.keys()\n",
        "li = []\n",
        "for i in l:\n",
        "    if i in keys:\n",
        "        li.append(repeated_l.pop(i))\n",
        "print(\" \".join(map(str, li)))\n",
        "\n",
        "\n",
        "\n",
        "\n",
        "\n",
        "\n",
        "\n",
        "\n"
      ]
    },
    {
      "cell_type": "markdown",
      "metadata": {
        "id": "BxQM7hvykJQB"
      },
      "source": [
        "#### Q25 Company logo\n",
        "\n",
        "link - https://www.hackerrank.com/challenges/most-commons/problem\n"
      ]
    },
    {
      "cell_type": "code",
      "execution_count": 31,
      "metadata": {
        "colab": {
          "base_uri": "https://localhost:8080/"
        },
        "id": "GXzS3TIPkJQB",
        "outputId": "40644415-e84e-43b8-8baa-96ed6853d289"
      },
      "outputs": [
        {
          "output_type": "stream",
          "name": "stdout",
          "text": [
            "aabbbccde\n",
            "b 3\n",
            "a 2\n",
            "c 2\n"
          ]
        }
      ],
      "source": [
        "s=input()\n",
        "l=[]\n",
        "for i in range(26):\n",
        "    l.append(0)\n",
        "for i in s:\n",
        "    l[ord(i)-ord('a')]+=1\n",
        "\n",
        "m=0\n",
        "for i in range(len(l)):\n",
        "    if l[i]>l[m]:\n",
        "        m=i\n",
        "print(chr(m+ord('a'))+\" \"+str(l[m]))\n",
        "l[m]=0\n",
        "\n",
        "m=0\n",
        "for i in range(len(l)):\n",
        "    if l[i]>l[m]:\n",
        "        m=i\n",
        "print(chr(m+ord('a'))+\" \"+str(l[m]))\n",
        "l[m]=0\n",
        "\n",
        "m=0\n",
        "for i in range(len(l)):\n",
        "    if l[i]>l[m]:\n",
        "        m=i\n",
        "print(chr(m+ord('a'))+\" \"+str(l[m]))\n",
        "l[m]=0\n",
        "\n",
        "\n",
        "\n",
        "\n",
        "\n",
        "\n",
        "\n"
      ]
    },
    {
      "cell_type": "markdown",
      "metadata": {
        "id": "X5WCPuMYkJQB"
      },
      "source": [
        "#### Q26 itertools product\n",
        "\n",
        "link - https://www.hackerrank.com/challenges/itertools-product/problem\n",
        ""
      ]
    },
    {
      "cell_type": "code",
      "execution_count": 30,
      "metadata": {
        "colab": {
          "base_uri": "https://localhost:8080/"
        },
        "id": "wakdsJjakJQB",
        "outputId": "a403a015-206c-4238-acfb-3a101cb51ad5"
      },
      "outputs": [
        {
          "output_type": "stream",
          "name": "stdout",
          "text": [
            "1 2\n",
            "3 4\n",
            "(1, 3) (1, 4) (2, 3) (2, 4) "
          ]
        }
      ],
      "source": [
        "import itertools\n",
        "a = list(map(int,input().split(' ')))\n",
        "b = list(map(int,input().split(' ')))\n",
        "l = list(itertools.product(a,b))\n",
        "for i in l:\n",
        "    print(i,end = ' ')"
      ]
    },
    {
      "cell_type": "markdown",
      "metadata": {
        "id": "jD-Oxp7akJQB"
      },
      "source": [
        "#### Q27 itertools permutation\n",
        "\n",
        "link - https://www.hackerrank.com/challenges/itertools-permutations/problem\n"
      ]
    },
    {
      "cell_type": "code",
      "execution_count": 28,
      "metadata": {
        "colab": {
          "base_uri": "https://localhost:8080/"
        },
        "id": "jT6frbKMkJQC",
        "outputId": "19005ca3-0bfd-4e49-9e80-d0194e8f5650"
      },
      "outputs": [
        {
          "output_type": "stream",
          "name": "stdout",
          "text": [
            "HACK 2\n",
            "A\n",
            "C\n",
            "H\n",
            "K\n",
            "AC\n",
            "AH\n",
            "AK\n",
            "CH\n",
            "CK\n",
            "HK\n"
          ]
        }
      ],
      "source": [
        "from itertools import combinations\n",
        "s,i = input().split()\n",
        "i = int(i)\n",
        "s = list(s)\n",
        "s.sort()\n",
        "for j in range(1,i+1):\n",
        "    for com in list(combinations(s,j)):\n",
        "        print(''.join(com))"
      ]
    },
    {
      "cell_type": "markdown",
      "metadata": {
        "id": "8U7m2_Z-kJQC"
      },
      "source": [
        "#### Q28 itertools combination\n",
        "\n",
        "link - https://www.hackerrank.com/challenges/itertools-combinations/problem\n"
      ]
    },
    {
      "cell_type": "code",
      "execution_count": null,
      "metadata": {
        "id": "VmQdOrXqkJQC"
      },
      "outputs": [],
      "source": [
        "from itertools import*\n",
        "\n",
        "s,k = input().split( ' ')\n",
        "\n",
        "for l in range(1,int(k)+1):\n",
        "    for c in combinations (sorted(s),l):\n",
        "        print(''.join(c))"
      ]
    },
    {
      "cell_type": "markdown",
      "metadata": {
        "id": "N2hUj60UkJQC"
      },
      "source": [
        "#### Q29 itertools combination\n",
        "\n",
        "link - https://www.hackerrank.com/challenges/itertools-combinations-with-replacement/problem\n"
      ]
    },
    {
      "cell_type": "code",
      "execution_count": 27,
      "metadata": {
        "colab": {
          "base_uri": "https://localhost:8080/"
        },
        "id": "cXIJ5U7KkJQC",
        "outputId": "28011eb1-946e-4a23-f220-d7ce082bcfbe"
      },
      "outputs": [
        {
          "output_type": "stream",
          "name": "stdout",
          "text": [
            "HACK 2\n",
            "AA\n",
            "AC\n",
            "AH\n",
            "AK\n",
            "CC\n",
            "CH\n",
            "CK\n",
            "HH\n",
            "HK\n",
            "KK\n"
          ]
        }
      ],
      "source": [
        "from itertools import combinations_with_replacement\n",
        "s,k = input().split(' ')\n",
        "k = int(k)\n",
        "s = [x for x in s]\n",
        "s.sort()\n",
        "l = list(combinations_with_replacement(s,k))\n",
        "l.sort()\n",
        "for i in l:\n",
        "    s = ''\n",
        "    for k in i:\n",
        "        s+=k\n",
        "    print(s)"
      ]
    },
    {
      "cell_type": "markdown",
      "metadata": {
        "id": "HjGn1KOVkJQC"
      },
      "source": [
        "#### Q30 compress the string\n",
        "\n",
        "link - https://www.hackerrank.com/challenges/compress-the-string/problem\n"
      ]
    },
    {
      "cell_type": "code",
      "execution_count": 26,
      "metadata": {
        "colab": {
          "base_uri": "https://localhost:8080/"
        },
        "id": "MD-pqLk2kJQC",
        "outputId": "9af68e40-b013-4fc6-d8fb-0c50c70c160d"
      },
      "outputs": [
        {
          "output_type": "stream",
          "name": "stdout",
          "text": [
            "1222311\n",
            "(1, 1) (3, 2) (1, 3) (2, 1) "
          ]
        }
      ],
      "source": [
        "S=input()\n",
        "i=1\n",
        "a=[]\n",
        "count=1\n",
        "while i<len(S):\n",
        "    if S[i]==S[i-1]:\n",
        "        count+=1\n",
        "        i+=1\n",
        "    else:\n",
        "        a.append((count,int(S[i-1])))\n",
        "        i+=1\n",
        "        count=1\n",
        "a.append((count,int(S[i-1])))\n",
        "for i in a:\n",
        "    print(i,end=' ')"
      ]
    },
    {
      "cell_type": "markdown",
      "metadata": {
        "id": "XzhEGvYPkJQC"
      },
      "source": [
        "#### Q31 iterables and iterators\n",
        "\n",
        "link - https://www.hackerrank.com/challenges/iterables-and-iterators/problem\n"
      ]
    },
    {
      "cell_type": "code",
      "execution_count": 25,
      "metadata": {
        "colab": {
          "base_uri": "https://localhost:8080/"
        },
        "id": "WvYgbO4lkJQD",
        "outputId": "4486b072-ab48-4729-bcd8-991a92494bf3"
      },
      "outputs": [
        {
          "output_type": "stream",
          "name": "stdout",
          "text": [
            "4\n",
            "a a c d \n",
            "2\n",
            "0.8333333333333334\n"
          ]
        }
      ],
      "source": [
        "from math import factorial\n",
        "def C(n,r):\n",
        "    return factorial(n)//(factorial(r)*factorial(n-r))\n",
        "N=int(input())\n",
        "p=input().split()\n",
        "K=int(input())\n",
        "if K==0:\n",
        "    print(1)\n",
        "elif N==K:\n",
        "    if 'a' in p:\n",
        "        print(1)\n",
        "    else:\n",
        "        print(0)\n",
        "else:\n",
        "    x=C(N-p.count('a'),K)\n",
        "    y=C(N,K)\n",
        "    if (x<0 or y<=0):\n",
        "        print(0)\n",
        "    else:\n",
        "        print(1-(x/y))\n",
        "\n",
        "\n",
        "\n",
        "\n",
        "\n"
      ]
    },
    {
      "cell_type": "markdown",
      "metadata": {
        "id": "Uc8fmBQVkJQD"
      },
      "source": [
        "#### Q32 Maximize it\n",
        "\n",
        "link - https://www.hackerrank.com/challenges/maximize-it/problem\n"
      ]
    },
    {
      "cell_type": "code",
      "execution_count": 24,
      "metadata": {
        "colab": {
          "base_uri": "https://localhost:8080/"
        },
        "id": "a9Bmg5MAkJQD",
        "outputId": "d1f0da47-6f34-4ff4-9a59-e264a31395ee"
      },
      "outputs": [
        {
          "output_type": "stream",
          "name": "stdout",
          "text": [
            "3 1000\n",
            "2 5 4\n",
            "3 7 8 9 \n",
            "5 5 7 8 9 10\n",
            "206\n"
          ]
        }
      ],
      "source": [
        "from itertools import product\n",
        "t, m =map(int,input().split())\n",
        "ls = []\n",
        "\n",
        "\n",
        "for i in range(t):\n",
        "    tmp = map(int,input()[1:].split())\n",
        "    tmp2 = [x**2 for x in tmp]\n",
        "    ls.append(tmp2)\n",
        "\n",
        "#mult=\n",
        "\n",
        "max=0\n",
        "#p = list(mult)\n",
        "\n",
        "for i in product(*ls):\n",
        "    pro=0\n",
        "    for j in i:\n",
        "        pro+=j\n",
        "    if (pro%m)>max:\n",
        "        max=pro%m\n",
        "print(max)\n",
        "\n",
        "\n",
        "\n",
        "\n",
        "\n"
      ]
    },
    {
      "cell_type": "markdown",
      "metadata": {
        "id": "fvpsbNtZkJQD"
      },
      "source": [
        "---------------------------------\n",
        "\n",
        "# \"Cheers\":) Congratulations! you have completed the Python Intermediate challenge.\n",
        "\n",
        "--------------------------------\n",
        "\n",
        "# FeedBack\n",
        "We hope you’ve enjoyed this course so far. We’re committed to help you use \"AI for All\" course to its full potential, so that you have a great learning experience. And that’s why we need your help in form of a feedback here.\n",
        "\n",
        "Please fill this feedback form  https://zfrmz.in/MtRG5oWXBdesm6rmSM7N"
      ]
    }
  ],
  "metadata": {
    "kernelspec": {
      "display_name": "Python 3",
      "language": "python",
      "name": "python3"
    },
    "language_info": {
      "codemirror_mode": {
        "name": "ipython",
        "version": 3
      },
      "file_extension": ".py",
      "mimetype": "text/x-python",
      "name": "python",
      "nbconvert_exporter": "python",
      "pygments_lexer": "ipython3",
      "version": "3.8.5"
    },
    "colab": {
      "provenance": []
    }
  },
  "nbformat": 4,
  "nbformat_minor": 0
}