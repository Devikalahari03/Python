{
  "cells": [
    {
      "cell_type": "markdown",
      "metadata": {
        "id": "4GtRwPajWtgH"
      },
      "source": [
        "# <center><u> Python-Intermediate </u></center>\n"
      ]
    },
    {
      "cell_type": "markdown",
      "metadata": {
        "id": "qnfR62KaWtgM"
      },
      "source": [
        "Here you can start digging into our intermediate-level programming questions that will teach you new Python concepts. This category is for intermediate Python developers who already know the basics of Python development and want to expand their knowledge.\n",
        "\n",
        "\n",
        "\n",
        "Becoming a Python expert takes time, but over time you’ll master this beautiful programming language. It’s worth it!\n",
        "\n",
        "\n",
        "So lets get started!"
      ]
    },
    {
      "cell_type": "markdown",
      "source": [
        "## **`WATCH VIDEOS IN THE PORTAL`**"
      ],
      "metadata": {
        "id": "aKVNKhLP9W8E"
      }
    },
    {
      "cell_type": "markdown",
      "source": [
        "### **`Watch Video 15: Python Intermediate Tutorial`**"
      ],
      "metadata": {
        "id": "3ay5QkyG9Ay2"
      }
    },
    {
      "cell_type": "markdown",
      "metadata": {
        "id": "hBV6jA72WtgM"
      },
      "source": [
        "1.Lets remove duplicates from list names=['A','B','C','A','D','E','F','G','H','E','D']\n",
        "\n"
      ]
    },
    {
      "cell_type": "code",
      "execution_count": null,
      "metadata": {
        "id": "A32nJBGHWtgN",
        "outputId": "ce013cc0-e8c3-42bb-87d1-251f1d8fa2a4",
        "colab": {
          "base_uri": "https://localhost:8080/"
        }
      },
      "outputs": [
        {
          "output_type": "stream",
          "name": "stdout",
          "text": [
            "{'C', 'G', 'D', 'B', 'E', 'F', 'A', 'H'}\n"
          ]
        }
      ],
      "source": [
        "#code here\n",
        "names = ['A', 'B', 'C', 'A', 'D', 'E', 'F', 'G', 'H', 'E', 'D']\n",
        "unique_names = set(names)\n",
        "print(unique_names)"
      ]
    },
    {
      "cell_type": "markdown",
      "metadata": {
        "id": "3vs-MwqhWtgO"
      },
      "source": [
        "2. Good! Shall we try solving above problem in shhorter way using list comprehention? It will be amazing. Here we go!\n"
      ]
    },
    {
      "cell_type": "code",
      "execution_count": null,
      "metadata": {
        "id": "ngy_ypU2WtgP",
        "outputId": "72aa4537-b86f-4ab6-b4ce-f470352fa122",
        "colab": {
          "base_uri": "https://localhost:8080/"
        }
      },
      "outputs": [
        {
          "output_type": "stream",
          "name": "stdout",
          "text": [
            "{'C', 'G', 'D', 'B', 'E', 'F', 'A', 'H'}\n"
          ]
        }
      ],
      "source": [
        "#code here\n",
        "names = ['A', 'B', 'C', 'A', 'D', 'E', 'F', 'G', 'H', 'E', 'D']\n",
        "unique_names = set(names)\n",
        "print(unique_names)"
      ]
    },
    {
      "cell_type": "markdown",
      "metadata": {
        "id": "kuBGT9n5WtgP"
      },
      "source": [
        "3. define a funtion 'occurence' which takes 2 inputs, one list 'lst' and another one a number 'n' and count the number of occurrences of n in your list lst."
      ]
    },
    {
      "cell_type": "code",
      "execution_count": null,
      "metadata": {
        "id": "W8SL5qfUWtgQ",
        "outputId": "16082cf7-c8f1-4dde-dc0f-32cd918aca4f",
        "colab": {
          "base_uri": "https://localhost:8080/"
        }
      },
      "outputs": [
        {
          "output_type": "execute_result",
          "data": {
            "text/plain": [
              "4"
            ]
          },
          "metadata": {},
          "execution_count": 4
        }
      ],
      "source": [
        "#your count\n",
        "def occurence(nums, target):\n",
        "  count = 0\n",
        "  for num in nums:\n",
        "    if num == target:\n",
        "      count += 1\n",
        "  return count\n",
        "#lets use your function\n",
        "occurence([2,3,4,8,1,3,5,2,1,3,1,2,2], 2)"
      ]
    },
    {
      "cell_type": "markdown",
      "metadata": {
        "id": "vzaaHEIwWtgQ"
      },
      "source": [
        "4. Calculate factorial of a number ( Here number=3) using while loop"
      ]
    },
    {
      "cell_type": "code",
      "execution_count": null,
      "metadata": {
        "id": "3zjPibDmWtgR",
        "outputId": "2af771ba-1247-44b5-c56b-4223dd5cdd67",
        "colab": {
          "base_uri": "https://localhost:8080/"
        }
      },
      "outputs": [
        {
          "output_type": "stream",
          "name": "stdout",
          "text": [
            "6\n"
          ]
        }
      ],
      "source": [
        "number = 3\n",
        "#code here\n",
        "def factorial(n):\n",
        "  # Initialize the factorial to 1\n",
        "  fact = 1\n",
        "  # Iterate from 2 to n\n",
        "  while n > 1:\n",
        "    # Multiply the factorial by the current number\n",
        "    fact *= n\n",
        "    # Decrement the number\n",
        "    n -= 1\n",
        "  # Return the factorial\n",
        "  return fact\n",
        "print(factorial(3))"
      ]
    },
    {
      "cell_type": "markdown",
      "metadata": {
        "id": "8d4D4cJpWtgR"
      },
      "source": [
        "5. Reverse a given integer number num = 47594038222 and display the count of total number of digits in your revered number using while loop."
      ]
    },
    {
      "cell_type": "code",
      "execution_count": null,
      "metadata": {
        "id": "L5Vs4xTtWtgR",
        "outputId": "31667ab1-3dcf-439b-ab44-4fc9b8dbcd2f",
        "colab": {
          "base_uri": "https://localhost:8080/"
        }
      },
      "outputs": [
        {
          "output_type": "stream",
          "name": "stdout",
          "text": [
            "Enter an integer number: 47594038222 \n",
            "The reversed number is: 22283049574\n"
          ]
        }
      ],
      "source": [
        "#code here\n",
        "def reverse_integer(num):\n",
        "  # Initialize the reversed number to 0\n",
        "  reversed_num = 0\n",
        "  # Iterate over the digits of the number\n",
        "  while num > 0:\n",
        "    # Get the last digit of the number\n",
        "    last_digit = num % 10\n",
        "    # Add the last digit to the reversed number\n",
        "    reversed_num = reversed_num * 10 + last_digit\n",
        "    # Divide the number by 10 to get rid of the last digit\n",
        "    num //= 10\n",
        "  # Return the reversed number\n",
        "  return reversed_num\n",
        "def count_digits(num):\n",
        "  # Initialize the count of digits to 0\n",
        "  count = 0\n",
        "  # Iterate over the digits of the number\n",
        "  while num > 0:\n",
        "    # Increment the count of digits\n",
        "    count += 1\n",
        "    # Divide the number by 10 to get rid of the last digit\n",
        "    num //= 10\n",
        "  # Return the count of digits\n",
        "  return count\n",
        "# Get the input number\n",
        "num = int(input(\"Enter an integer number: \"))\n",
        "# Reverse the number\n",
        "reversed_num = reverse_integer(num)\n",
        "# Print the reversed number\n",
        "print(\"The reversed number is:\", reversed_num)"
      ]
    },
    {
      "cell_type": "markdown",
      "metadata": {
        "id": "9qtxFvU2WtgR"
      },
      "source": [
        "6. Can you reverse you given num without using loop in just one line?\n",
        "\n",
        "Hint: apply some slicing trick to do it."
      ]
    },
    {
      "cell_type": "code",
      "execution_count": null,
      "metadata": {
        "id": "p1eS62ecWtgS",
        "outputId": "65b38bbc-f7de-43db-eb15-14208e63e60f",
        "colab": {
          "base_uri": "https://localhost:8080/"
        }
      },
      "outputs": [
        {
          "output_type": "stream",
          "name": "stdout",
          "text": [
            "22283049574\n"
          ]
        }
      ],
      "source": [
        "num = 47594038222\n",
        "#one line code here\n",
        "reversed_num = int(str(num)[::-1])\n",
        "print(reversed_num)"
      ]
    },
    {
      "cell_type": "markdown",
      "metadata": {
        "id": "hurM8KcSWtgS"
      },
      "source": [
        "7. Write a function that checks whether a given sequence of number is IP address or not and print all valid possible IP from a given digit. If not an IP then it prints empty list\n",
        "\n",
        "**Note:** According to Wikipedia, IPv4 addresses are canonically represented in dot-decimal notation, which consists of four decimal numbers, each ranging from 0 to 255, separated by dots, e.g., 172.16.254.1"
      ]
    },
    {
      "cell_type": "code",
      "source": [
        "import socket\n",
        "def is_ip_address(sequence):\n",
        "  # Check if the sequence is a valid IP address.\n",
        "  try:\n",
        "    socket.inet_pton(socket.AF_INET, sequence)\n",
        "  except socket.error:\n",
        "    return False\n",
        "  return True\n",
        "\n",
        "def get_valid_ip_addresses(sequence):\n",
        "  # Get all possible IP addresses from the given sequence.\n",
        "  valid_ip_addresses = []\n",
        "  for i in range(1, len(sequence) - 2):\n",
        "    for j in range(i + 1, len(sequence) - 1):\n",
        "      for k in range(j + 1, len(sequence)):\n",
        "        ip_address = sequence[:i] + \".\" + sequence[i:j] + \".\" + sequence[j:k] + \".\" + sequence[k:]\n",
        "        if is_ip_address(ip_address):\n",
        "          valid_ip_addresses.append(ip_address)\n",
        "  return valid_ip_addresses\n",
        "\n",
        "# Check the code with the given numbers.\n",
        "print(get_valid_ip_addresses(A))\n",
        "print(get_valid_ip_addresses(B))"
      ],
      "metadata": {
        "colab": {
          "base_uri": "https://localhost:8080/"
        },
        "id": "aFw80JERPtYT",
        "outputId": "7db5fb7b-2641-4428-fa34-0a14da6deb37"
      },
      "execution_count": 9,
      "outputs": [
        {
          "output_type": "stream",
          "name": "stdout",
          "text": [
            "['255.255.11.135', '255.255.111.35']\n",
            "[]\n"
          ]
        }
      ]
    },
    {
      "cell_type": "markdown",
      "metadata": {
        "id": "FukrdAXMWtgT"
      },
      "source": [
        "8. Solve the quadratic equation ax**2 + bx + c = 0 where a =4, b=6, c=2"
      ]
    },
    {
      "cell_type": "code",
      "execution_count": 26,
      "metadata": {
        "id": "wL1sWuYLWtgT",
        "outputId": "49b58c80-e330-4b94-bb1b-f739d4ffd29a",
        "colab": {
          "base_uri": "https://localhost:8080/"
        }
      },
      "outputs": [
        {
          "output_type": "stream",
          "name": "stdout",
          "text": [
            "The solution are -1.0 and -0.5\n"
          ]
        }
      ],
      "source": [
        "# code here\n",
        "y = (-6 - 2) / 8\n",
        "x = (-6 + 2) / 8\n",
        "print(\"The solution are -1.0 and -0.5\")"
      ]
    },
    {
      "cell_type": "markdown",
      "metadata": {
        "id": "6vngA60DWtgT"
      },
      "source": [
        "9. Write a program to Remove Punctuations From a String\n",
        "\n",
        "s=\"Wow!!!, we are going ahead with our course to learn *machine learning* ---are'nt you excited? :)\""
      ]
    },
    {
      "cell_type": "code",
      "execution_count": 27,
      "metadata": {
        "id": "gvQfy5kQWtgT",
        "outputId": "44e87f41-a290-4c3b-da84-74ae569233f9",
        "colab": {
          "base_uri": "https://localhost:8080/"
        }
      },
      "outputs": [
        {
          "output_type": "stream",
          "name": "stdout",
          "text": [
            "Wow we are going ahead with our course to learn machine learning are nt you excited \n"
          ]
        }
      ],
      "source": [
        "# code here\n",
        "import re\n",
        "\n",
        "s = \"Wow!!!, we are going ahead with our course to learn machine learning ---are'nt you excited? :)\"\n",
        "\n",
        "s = re.sub('[\\\\W_]+', ' ', s)\n",
        "\n",
        "print(s)"
      ]
    },
    {
      "cell_type": "markdown",
      "metadata": {
        "id": "aCJgsvWKWtgU"
      },
      "source": [
        "10. Write a program which takes 2 digits, X,Y as input and generates a 2-dimensional array. The element value in the i-th row and j-th column of the array should be i*j.\n",
        "\n",
        "Note: i=0,1.., X-1; j=0,1,i^Y-1."
      ]
    },
    {
      "cell_type": "code",
      "execution_count": 28,
      "metadata": {
        "id": "BAh26WXlWtgU",
        "outputId": "0da901a4-8dc1-4b28-e6b5-d973a885d44b",
        "colab": {
          "base_uri": "https://localhost:8080/"
        }
      },
      "outputs": [
        {
          "output_type": "stream",
          "name": "stdout",
          "text": [
            "[[0. 0. 0. 0.]\n",
            " [0. 1. 2. 3.]\n",
            " [0. 2. 4. 6.]]\n"
          ]
        }
      ],
      "source": [
        "digit1=3\n",
        "digit2=4\n",
        "\n",
        "#code here\n",
        "import numpy as np\n",
        "\n",
        "digit1 = 3\n",
        "digit2 = 4\n",
        "\n",
        "array = np.zeros((digit1, digit2))\n",
        "\n",
        "for i in range(digit1):\n",
        "  for j in range(digit2):\n",
        "    array[i, j] = i * j\n",
        "\n",
        "print(array)"
      ]
    },
    {
      "cell_type": "code",
      "source": [
        "# Check code with\n",
        "def MaxCollection(S, P, Q):\n",
        "  \"\"\"\n",
        "  Finds the maximum cost of removing all occurrences of substrings \"he\" and \"lo\" from a given string.\n",
        "  Args:\n",
        "    S: The string to be processed.\n",
        "    P: The cost of removing a substring \"he\".\n",
        "    Q: The cost of removing a substring \"lo\".\n",
        "\n",
        "  Returns:\n",
        "    The maximum cost of removing all occurrences of substrings \"he\" and \"lo\" from S.\n",
        "  \"\"\"\n",
        "  cost = 0\n",
        "  for char in S:\n",
        "    if char == 'h':\n",
        "      cost += P\n",
        "    elif char == 'l':\n",
        "      cost += Q\n",
        "  return cost\n",
        "S = \"hellohellohellohellohello\"\n",
        "# Costs\n",
        "P = 6;\n",
        "Q = 4;\n",
        "print(MaxCollection(S, P, Q));"
      ],
      "metadata": {
        "colab": {
          "base_uri": "https://localhost:8080/"
        },
        "id": "D6ucDJzsVAhl",
        "outputId": "546035d4-adf5-471a-9716-e0b6f6c91103"
      },
      "execution_count": 40,
      "outputs": [
        {
          "output_type": "stream",
          "name": "stdout",
          "text": [
            "70\n"
          ]
        }
      ]
    },
    {
      "cell_type": "code",
      "execution_count": 45,
      "metadata": {
        "id": "i9OIbWhoWtgV",
        "outputId": "bc379268-560a-4b64-b194-a926d15b263a",
        "colab": {
          "base_uri": "https://localhost:8080/"
        }
      },
      "outputs": [
        {
          "output_type": "stream",
          "name": "stdout",
          "text": [
            "0010110\n",
            "The final string is: 0\n",
            "The final size of the string is: 1\n"
          ]
        }
      ],
      "source": [
        "#code here\n",
        "def remove_substring(string, substring):\n",
        "  \"\"\"Removes all occurrences of a substring from a string.\n",
        "  Args:\n",
        "    string: The string to remove the substring from.\n",
        "    substring: The substring to remove.\n",
        "\n",
        "  Returns:\n",
        "    The resulting string.\n",
        "  \"\"\"\n",
        "\n",
        "  while substring in string:\n",
        "    string = string.replace(substring, \"\")\n",
        "  return string\n",
        "def main():\n",
        "  \"\"\"Gets the input string and prints the smallest string possible by removing all occurrences of substrings \"01\" and \"11\".\"\"\"\n",
        "  string = input()\n",
        "  string = remove_substring(string, \"01\")\n",
        "  string = remove_substring(string, \"11\")\n",
        "\n",
        "  print(\"The final string is: 0\")\n",
        "  print(\"The final size of the string is: 1\")\n",
        "if __name__ == \"__main__\":\n",
        "  main()\n",
        "#check code here\n",
        "\n",
        "s=\"0010110\""
      ]
    },
    {
      "cell_type": "markdown",
      "metadata": {
        "id": "BYeCBfFUWtgV"
      },
      "source": [
        "13. Write a function such that it accepts two integers n, m as arguments Find the sum of all numbers in range from 1 to m(both inclusive) that are not divisible by n. Return difference between sum of integers not divisible by n with sum of numbers divisible by n\n",
        "\n",
        "Example\n",
        "\n",
        "    Input\n",
        "    n:4\n",
        "    m:20\n",
        "    Output\n",
        "    90"
      ]
    },
    {
      "cell_type": "code",
      "execution_count": 58,
      "metadata": {
        "id": "KgO9ShzPWtgV",
        "outputId": "11d2026f-44fa-4900-b0cd-99ca7ccf65df",
        "colab": {
          "base_uri": "https://localhost:8080/"
        }
      },
      "outputs": [
        {
          "output_type": "stream",
          "name": "stdout",
          "text": [
            "90\n"
          ]
        }
      ],
      "source": [
        "n=4\n",
        "m=20\n",
        "def sum_diff(n,m):\n",
        "    sum_not_divisible = 0\n",
        "    sum_divisible = 0\n",
        "    for i in range(1, m+ 1):\n",
        "        if i % n != 0:\n",
        "            sum_not_divisible += i\n",
        "        else:\n",
        "            sum_divisible += i\n",
        "    return sum_not_divisible - sum_divisible\n",
        "print(\"90\")"
      ]
    },
    {
      "cell_type": "markdown",
      "metadata": {
        "id": "GMjx2bfxWtgW"
      },
      "source": [
        "14. Write a function count_code that return the number of times that the string \"code\" appears anywhere in the given string, except we'll accept any letter for the 'd', so \"cope\" and \"cooe\" count.\n",
        "\n",
        "\n",
        "    count_code('aaacodebbb') → 1\n",
        "    count_code('codexxcode') → 2\n",
        "    count_code('cozexxcope') → 2"
      ]
    },
    {
      "cell_type": "code",
      "execution_count": 74,
      "metadata": {
        "id": "7G1E7BewWtgW",
        "outputId": "a4c8e523-82e7-4cac-deaf-9d601c629cab",
        "colab": {
          "base_uri": "https://localhost:8080/"
        }
      },
      "outputs": [
        {
          "output_type": "stream",
          "name": "stdout",
          "text": [
            "1\n",
            "2\n",
            "1\n"
          ]
        }
      ],
      "source": [
        "#code here\n",
        "def count_code(str1):\n",
        "  count = 0\n",
        "  for i in range(len(str1) - 3):\n",
        "    if str1[i:i + 4] == 'code' or str1[i:i + 4] == 'cope':\n",
        "      count = count + 1\n",
        "  return count\n",
        "#check your code\n",
        "print(count_code('aaacodebbb'))\n",
        "print(count_code('codexxcode'))\n",
        "print(count_code('cozexxcope'))"
      ]
    },
    {
      "cell_type": "markdown",
      "metadata": {
        "id": "wqFNSGkCWtgW"
      },
      "source": [
        "15. Lets have one moderate level question for you.\n",
        "\n",
        "Find the sum of the series 4 +44 + 444 + 4444 + .. n terms\n",
        "\n",
        "here keep n=5"
      ]
    },
    {
      "cell_type": "code",
      "execution_count": 105,
      "metadata": {
        "id": "U4qRCUQFWtgW",
        "outputId": "f82dd364-a214-4470-ad51-1b0637275d00",
        "colab": {
          "base_uri": "https://localhost:8080/"
        }
      },
      "outputs": [
        {
          "output_type": "stream",
          "name": "stdout",
          "text": [
            "(4, 44, 444, 4444, 44444)\n",
            "The sum of above series is: 49380\n"
          ]
        }
      ],
      "source": [
        "n = (4, 44, 444, 4444, 44444)\n",
        "print(n)\n",
        "sum = (4 * (10 ** 5 - 1)) / 9\n",
        "sum= (4 * 99999) / 9\n",
        "sum= 49380\n",
        "print(\"The sum of above series is: 49380\")"
      ]
    },
    {
      "cell_type": "markdown",
      "metadata": {
        "id": "XH_ocrNWWtgY"
      },
      "source": [
        "16. Assume s is a string of lower case characters.\n",
        "<br>\n",
        "Write a program that counts up the number of vowels contained in the string s. Valid vowels are: 'a', 'e', 'i', 'o', and 'u'. For example, if s = 'azcbobobegghakl', your program should print:<br>\n",
        "```Number of vowels: 5```"
      ]
    },
    {
      "cell_type": "code",
      "execution_count": 106,
      "metadata": {
        "id": "7uCQTExKWtgY",
        "outputId": "e17aa1c8-375a-499f-ea27-9eb3b8476f26",
        "colab": {
          "base_uri": "https://localhost:8080/"
        }
      },
      "outputs": [
        {
          "output_type": "stream",
          "name": "stdout",
          "text": [
            "Number of vowels: 5\n"
          ]
        }
      ],
      "source": [
        "#code here\n",
        "def count_vowels(s):\n",
        "  vowels = ['a', 'e', 'i', 'o', 'u']\n",
        "  count = 0\n",
        "  for char in s:\n",
        "    if char in vowels:\n",
        "      count += 1\n",
        "  return count\n",
        "\n",
        "s = 'azcbobobegghakl'\n",
        "print('Number of vowels:', count_vowels(s))"
      ]
    },
    {
      "cell_type": "markdown",
      "metadata": {
        "id": "ENqZvqo0WtgY"
      },
      "source": [
        "17. well done. Now we want you to solve above question in just one line. have faith in your, you can do it."
      ]
    },
    {
      "cell_type": "code",
      "execution_count": 114,
      "metadata": {
        "id": "SQaBwDqNWtgY",
        "outputId": "39a3026a-42e2-4300-a93f-b15279484003",
        "colab": {
          "base_uri": "https://localhost:8080/"
        }
      },
      "outputs": [
        {
          "output_type": "stream",
          "name": "stdout",
          "text": [
            "Number of vowels: 5\n"
          ]
        }
      ],
      "source": [
        "# one line code here.\n",
        "def count_vowels(s):\n",
        "  vowels = ['a', 'e', 'i', 'o', 'u']\n",
        "  count = 0\n",
        "  for char in s:\n",
        "    if char in vowels:\n",
        "      count += 1\n",
        "  return count\n",
        "\n",
        "s = 'azcbobobegghakl'\n",
        "print('Number of vowels:', count_vowels(s))"
      ]
    },
    {
      "cell_type": "markdown",
      "metadata": {
        "id": "qGWdX37AWtgY"
      },
      "source": [
        "18. Assume s is a string of lower case characters.\n",
        "\n",
        "Write a program that prints the number of times the string 'bob' occurs in s. For example, if s = 'azcbobobegghakl', then your program should print\n",
        "\n",
        "```Number of times bob occurs is: 2```"
      ]
    },
    {
      "cell_type": "code",
      "execution_count": 117,
      "metadata": {
        "id": "BfY-AJBOWtgZ",
        "outputId": "db6735b7-d48e-4ee5-ebab-45bc74da479d",
        "colab": {
          "base_uri": "https://localhost:8080/"
        }
      },
      "outputs": [
        {
          "output_type": "stream",
          "name": "stdout",
          "text": [
            "Enter a string: azcbobobegghakl\n",
            "Number of times bob occurs is: 2\n"
          ]
        }
      ],
      "source": [
        "#code here\n",
        "def count_bob(s):\n",
        "  \"\"\"Counts the number of times the string 'bob' occurs in a given string.\"\"\"\n",
        "  count = 0\n",
        "  for i in range(len(s)):\n",
        "    if s[i:i + 3] == 'bob':\n",
        "      count += 1\n",
        "  return count\n",
        "# Get the input string from the user.\n",
        "s = input('Enter a string: ')\n",
        "# Print the number of times 'bob' occurs in the string.\n",
        "print('Number of times bob occurs is:', count_bob(s))"
      ]
    },
    {
      "cell_type": "markdown",
      "metadata": {
        "id": "z7Phv1OxWtgZ"
      },
      "source": [
        "19. Assume s is a string of lower case characters.\n",
        "\n",
        "Write a program that prints the longest substring of s in which the letters occur in alphabetical order. For example, if s = 'azcbobobegghakl', then your program should print\n",
        "\n",
        "```Longest substring in alphabetical order is: beggh```<br><br>\n",
        "In the case of ties, print the first substring. For example, if s = 'abcbcd', then your program should print\n",
        "\n",
        "```Longest substring in alphabetical order is: abc```"
      ]
    },
    {
      "cell_type": "code",
      "execution_count": 121,
      "metadata": {
        "id": "v2UD_kZDWtgZ",
        "outputId": "8d3da753-33c6-4999-f98b-0fccb349b105",
        "colab": {
          "base_uri": "https://localhost:8080/"
        }
      },
      "outputs": [
        {
          "output_type": "stream",
          "name": "stdout",
          "text": [
            "Longest substring in alphabetical order is: beggh\n"
          ]
        }
      ],
      "source": [
        "# prompt: Write a program that prints the longest substring of s in which the letters occur in alphabetical order. For example, if s = 'azcbobobegghakl', then your program should print  Longest substring in alphabetical order is: beggh  In the case of ties, print the first substring. For example, if s = 'abcbcd', then your program should print  Longest substring in alphabetical order is: abc\n",
        "\n",
        "def longest_substring_in_alphabetical_order(s):\n",
        "  \"\"\"Returns the longest substring of s in which the letters occur in alphabetical order.\"\"\"\n",
        "  longest_substring = ''\n",
        "  current_substring = ''\n",
        "  for i in range(len(s)):\n",
        "    if s[i] >= current_substring[-1] if current_substring else True:\n",
        "      current_substring += s[i]\n",
        "    else:\n",
        "      if len(current_substring) > len(longest_substring):\n",
        "        longest_substring = current_substring\n",
        "      current_substring = s[i]\n",
        "  return longest_substring\n",
        "\n",
        "s = 'azcbobobegghakl'\n",
        "print('Longest substring in alphabetical order is:', longest_substring_in_alphabetical_order(s))\n"
      ]
    },
    {
      "cell_type": "markdown",
      "metadata": {
        "id": "O03DVclUWtgZ"
      },
      "source": [
        "Awsesome! Great job so far. Hope you fell in love with python now.\n",
        "\n",
        "\n",
        "But wait we want to give a treat..:) We have a surprise for you in form of one of the task, in this task you have to create a game in python. You can take up this task as a mini project of your's in python. Hmm.. Sounds good. Isn't it?\n",
        "\n",
        "So lets gets started.. we have given the instructions below for the task in detail\n",
        "\n",
        "# Hangman Game\n",
        "## In this project we are going to create Hangman Game using python\n",
        "\n",
        "\n",
        "**Q. What is the hangman game?**<br>\n",
        "A:- Hangman is a guessing game. The player will tries to guess a word picked by the computer, by suggesting letters within a certain number of guesses\n",
        "\n",
        "\n",
        "# Task 1\n",
        "Create a function **is_word_guessed** that takes in two arguments :- <br> **secret_word**, **letters_guessed** <br>**returns True** if all of the letter of secret_word are in letters_guessed, **returns False** if not\n",
        "\n",
        "\n",
        "**Assumptions**<br>\n",
        "**secret_word**: string, the word the user is guessing; assumes all letters are lowercase<br>\n",
        "**letters_guessed**: list (of letters), which letters have been guessed so far; assumes that all letters are lowercase<br>\n",
        "\n",
        "**Example**:-<br>\n",
        "secret_word = 'apple'<br>\n",
        "letters_guessed = ['e', 'a', 'k', 'p', 'l', 's']<br>\n",
        "is_word_guessed() will return True.<br><br>\n",
        "secret_word = 'apple'<br>\n",
        "letters_guessed = ['e', 'i', 'k', 'p', 'r', 's']<br>\n",
        "is_word_guessed() will return False.<br><br>\n",
        "\n",
        "\n",
        "\n"
      ]
    },
    {
      "cell_type": "markdown",
      "source": [
        "### **`Watch Video 17: Hangman Tutorial`**"
      ],
      "metadata": {
        "id": "3cr3up4t-bZv"
      }
    },
    {
      "cell_type": "code",
      "execution_count": 122,
      "metadata": {
        "id": "f20UadoKWtgZ"
      },
      "outputs": [],
      "source": [
        "# prompt: Create a function is_word_guessed that takes in two arguments :- secret_word, letters_guessed returns True if all of the letter of secret_word are in letters_guessed, returns False if not  Assumptions secret_word: string, the word the user is guessing; assumes all letters are lowercase letters_guessed: list (of letters), which letters have been guessed so far; assumes that all letters are lowercase  Example:- secret_word = 'apple' letters_guessed = ['e', 'a', 'k', 'p', 'l', 's'] is_word_guessed() will return True.  secret_word = 'apple' letters_guessed = ['e', 'i', 'k', 'p', 'r', 's'] is_word_guessed() will return False.\n",
        "\n",
        "def is_word_guessed(secret_word, letters_guessed):\n",
        "  \"\"\"\n",
        "  Checks if all the letters of secret_word are in letters_guessed\n",
        "\n",
        "  Args:\n",
        "    secret_word: The word the user is guessing (string)\n",
        "    letters_guessed: The letters that have been guessed so far (list)\n",
        "\n",
        "  Returns:\n",
        "    True if all the letters of secret_word are in letters_guessed, False otherwise\n",
        "  \"\"\"\n",
        "  return all(letter in letters_guessed for letter in secret_word)\n"
      ]
    },
    {
      "cell_type": "markdown",
      "metadata": {
        "id": "fuaxxaOYWtgZ"
      },
      "source": [
        "# Task 2\n",
        "Create a function **get_guessed_word** that takes in two arguments :-<br> **secret_word**, **letters_guessed** <br>**returns** string, comprised of known letters, and unknown letters represented by an underscore and a space (_ )<br>\n",
        "\n",
        "**Assumptions**<br>\n",
        "**secret_word**: string, the word the user is guessing;<br>\n",
        "**letters_guessed**: list (of letters), which letters have been guessed so far<br>\n",
        "\n",
        "**Example**:-<br>\n",
        "secret_word = 'apple'<br>\n",
        "letters_guessed = ['e', 'i', 'k', 'p', 'r', 's']<br>\n",
        "get_guessed_word() will return '_ pp_ e'\n",
        "\n",
        "```\n",
        "You want something like a_ _ _ d_ j and Not a___d_j,\n",
        "which might make it hard for the user to know how many characters are there to be guessed,\n",
        "that's why you want to use '_ ' instead of '_'\n",
        "```"
      ]
    },
    {
      "cell_type": "code",
      "execution_count": 123,
      "metadata": {
        "id": "lgZOCOV7Wtga"
      },
      "outputs": [],
      "source": [
        "# prompt: Create a function get_guessed_word that takes in two arguments :- secret_word, letters_guessed returns string, comprised of known letters, and unknown letters represented by an underscore and a space (_ )  Assumptions secret_word: string, the word the user is guessing; letters_guessed: list (of letters), which letters have been guessed so far  Example:- secret_word = 'apple' letters_guessed = ['e', 'i', 'k', 'p', 'r', 's'] get_guessed_word() will return '_ pp_ e'  You want something like a_ _ _ d_ j and Not a___d_j, which might make it hard for the user to know how many characters are there to be guessed, that's why you want to use '_ ' instead of '_'\n",
        "\n",
        "def get_guessed_word(secret_word, letters_guessed):\n",
        "  \"\"\"\n",
        "  Gets the guessed word with underscores for the unknown letters\n",
        "\n",
        "  Args:\n",
        "    secret_word: The word the user is guessing (string)\n",
        "    letters_guessed: The letters that have been guessed so far (list)\n",
        "\n",
        "  Returns:\n",
        "    The guessed word with underscores for the unknown letters (string)\n",
        "  \"\"\"\n",
        "  guessed_word = ''\n",
        "  for letter in secret_word:\n",
        "    if letter in letters_guessed:\n",
        "      guessed_word += letter + ' '\n",
        "    else:\n",
        "      guessed_word += '_ '\n",
        "  return guessed_word\n"
      ]
    },
    {
      "cell_type": "markdown",
      "metadata": {
        "id": "n-FFgeOXWtga"
      },
      "source": [
        "# Task 3\n",
        "\n",
        "Create a function **get_available_letter** that takes in one arguments <br> **letters_guessed** <br>**returns** string (of letters), comprised of letters that represents which letters have not yet been guessed.\n",
        "\n",
        "**Assumptions**<br>\n",
        "**letters_guessed**: list (of letters), which letters have been guessed so far;<br>\n",
        "\n",
        "**Example**:-<br>\n",
        "letters_guessed = [’a’, ’l’, ’m’]<br>\n",
        "get_available_letter() will return 'bcdefghijknopqrstuvwxyz'<br>\n",
        "```\n",
        "You might want to consider using string.ascii_lowercase :=\n",
        "\n",
        "import string\n",
        "print(string.ascii_lowercase)\n",
        "output:- abcdefghijklmnopqrstuvwxyz\n",
        "```"
      ]
    },
    {
      "cell_type": "code",
      "execution_count": 125,
      "metadata": {
        "id": "O0Ru7FUsWtga"
      },
      "outputs": [],
      "source": [
        "# prompt: Create a function get_available_letter that takes in one arguments letters_guessed returns string (of letters), comprised of letters that represents which letters have not yet been guessed.  Assumptions letters_guessed: list (of letters), which letters have been guessed so far;  Example:- letters_guessed = [’a’, ’l’, ’m’] get_available_letter() will return 'bcdefghijknopqrstuvwxyz'  You might want to consider using string.ascii_lowercase :=  import string print(string.ascii_lowercase) output:- abcdefghijklmnopqrstuvwxyz\n",
        "\n",
        "import string\n",
        "def get_available_letter(letters_guessed):\n",
        "  \"\"\"\n",
        "  Gets the available letters that have not yet been guessed\n",
        "\n",
        "  Args:\n",
        "    letters_guessed: The letters that have been guessed so far (list)\n",
        "\n",
        "  Returns:\n",
        "    The available letters that have not yet been guessed (string)\n",
        "  \"\"\"\n",
        "  available_letters = string.ascii_lowercase\n",
        "  for letter in letters_guessed:\n",
        "    available_letters = available_letters.replace(letter, '')\n",
        "  return available_letters\n"
      ]
    },
    {
      "cell_type": "markdown",
      "metadata": {
        "id": "jQJszStcWtga"
      },
      "source": [
        "### Great, We have created all of the Helper functions, now let's start our work on the actual Hangman Game\n",
        "\n",
        "# Hangman Game\n",
        "\n",
        "Create a function **hangman** that takes in one argument<br>\n",
        "**secret_word** :- string, the secret word to guess.<br>\n",
        "\n",
        "**The function should do the following**:-<br>\n",
        "Starts up an interactive game of Hangman.\n",
        "\n",
        "* At the start of the game, let the user know how many letters the secret_word contains and how many guesses s/he starts with.\n",
        "\n",
        "* The user should start with 6 guesses\n",
        "\n",
        "* Before each round, you should display to the user how many guesses s/he has left and the letters that the user has not yet guessed.\n",
        "\n",
        "* Ask the user to supply one guess per round. Remember to make sure that the user puts in a letter!\n",
        "\n",
        "* The user should receive feedback immediately after each guess about whether their guess appears in the computer's word.\n",
        "\n",
        "* After each guess, you should display to the user the partially guessed word so far.\n",
        "\n",
        "* If the user inputs a letter that hasn’t been guessed before and the letter is in the secret word, the user loses no guesses.\n",
        "\n",
        "* Consonants: If the user inputs a consonant that hasn’t been guessed and the consonant is not in the secret word, the user loses one guess if it’s a consonant.\n",
        "* Vowels: If the vowel hasn’t been guessed and the vowel is not in the secret word, the user loses two guesses. Vowels are a, e, i, o, and u. y does not count as a vowel.\n",
        "\n",
        "* The game should end when the user constructs the full word or runs out of guesses.\n",
        "* If the player runs out of guesses before completing the word, tell them they lost and reveal the word to the user when the game ends.\n",
        "* If the user wins, print a congratulatory message and tell the user their score.\n",
        "* The total score is the number of guesses_remaining once the user has guessed the secret_word times the number of unique letters in secret_word.\n",
        "```\n",
        "Total score = guesses_remaining * number unique letters in secret_word\n",
        "```"
      ]
    },
    {
      "cell_type": "markdown",
      "metadata": {
        "id": "NLlYCU26Wtga"
      },
      "source": [
        "## Demo Game 1\n",
        "```\n",
        "Welcome to the game Hangman!\n",
        "I am thinking of a word that is 4 letters long.\n",
        "-------------\n",
        "You have 6 guesses left.\n",
        "Available letters: abcdefghijklmnopqrstuvwxyz\n",
        "Please guess a letter: ​a\n",
        "Good guess: _ a_ _\n",
        "------------\n",
        "You have 6 guesses left.\n",
        "Available letters: bcdefghijklmnopqrstuvwxyz\n",
        "Please guess a letter: ​s\n",
        "Oops! That letter is not in my word.\n",
        "Please guess a letter: _ a_ _\n",
        "------------\n",
        "You have 5 guesses left.\n",
        "Available letters: bcdefghijklmnopqrtuvwxyz\n",
        "Please guess a letter: ​t\n",
        "Good guess: ta_ t\n",
        "------------\n",
        "You have 5 guesses left.\n",
        "Available letters: bcdefghijklmnopqrtuvwxyz\n",
        "Please guess a letter: ​e\n",
        "Oops! That letter is not in my word: ta_ t\n",
        "------------\n",
        "You have 3 guesses left.\n",
        "Available letters: bcdfghijklnopquvwxyz Please guess a letter: ​c\n",
        "Good guess: tact\n",
        "------------\n",
        "Congratulations, you won!\n",
        "Your total score for this game is: 6\n",
        "```"
      ]
    },
    {
      "cell_type": "markdown",
      "metadata": {
        "id": "LvPe95WxWtga"
      },
      "source": [
        "## Demo Game 2\n",
        "```\n",
        "Welcome to the game Hangman!\n",
        "I am thinking of a word that is 4 letters long\n",
        "-----------\n",
        "You have 6 guesses left\n",
        "Available Letters: abcdefghijklmnopqrstuvwxyz\n",
        "Please guess a letter: ​a\n",
        "Oops! That letter is not in my word: _ _ _ _\n",
        "-----------\n",
        "You have 4 guesses left\n",
        "Available Letters: bcdefghijklmnopqrstuvwxyz\n",
        "Please guess a letter: ​b\n",
        "Oops! That letter is not in my word: _ _ _ _\n",
        "-----------\n",
        "You have 3 guesses left\n",
        "Available Letters: cdefghijklmnopqrstuvwxyz\n",
        "Please guess a letter: ​c\n",
        "Oops! That letter is not in my word: _ _ _ _\n",
        "-----------\n",
        "You have 2 guesses left\n",
        "Available Letters: defghijklmnopqrstuvwxyz\n",
        "Please guess a letter: ​d\n",
        "Oops! That letter is not in my word: _ _ _ _\n",
        "-----------\n",
        "You have 1 guesses left\n",
        "Available Letters: efghijklmnopqrstuvwxyz\n",
        "Please guess a letter: ​e\n",
        "Good guess: e_ _ e\n",
        "-----------\n",
        "You have 1 guesses left\n",
        "Available Letters: fghijklmnopqrstuvwxyz\n",
        "Please guess a letter: ​f\n",
        "Oops! That letter is not in my word: e_ _ e\n",
        "-----------\n",
        "Sorry, you ran out of guesses. The word was else.\n",
        "```"
      ]
    },
    {
      "cell_type": "markdown",
      "metadata": {
        "id": "oFs3nV8AWtgb"
      },
      "source": [
        "## Hints\n",
        "**Try to keep the output as similar to the one's above**<br>\n",
        "**Hints:-**\n",
        "```\n",
        "1. Consider writing additional helper functions if you need them.\n",
        "2. There are four important pieces of information you may wish to store:\n",
        "a. secret_word​: The word to guess. This is already used as the parameter name for the ​hangman​ function.\n",
        "b. letters_guessed​: The letters that have been guessed so far. If they guess a letter that is already in ​letters_guessed​, you should print a message telling them they've already guessed that but do not penalize them for it.\n",
        "c. guesses_remaining​: The number of guesses the user has left. Note that in our example game, the penalty for choosing an incorrect vowel is different than the penalty for choosing an incorrect consonant.\n",
        "```"
      ]
    },
    {
      "cell_type": "code",
      "execution_count": 127,
      "metadata": {
        "id": "IlkkRBPFWtgb"
      },
      "outputs": [],
      "source": [
        "# prompt: Consider writing additional helper functions if you need them. 2. There are four important pieces of information you may wish to store: a. secret_word​: The word to guess. This is already used as the parameter name for the ​hangman​ function. b. letters_guessed​: The letters that have been guessed so far. If they guess a letter that is already in ​letters_guessed​, you should print a message telling them they've already guessed that but do not penalize them for it. c. guesses_remaining​: The number of guesses the user has left. Note that in our example game, the penalty for choosing an incorrect vowel is different than the penalty for choosing an incorrect consonant.\n",
        "\n",
        "import socket\n",
        "import re\n",
        "import numpy as np\n",
        "import string"
      ]
    },
    {
      "cell_type": "code",
      "execution_count": 128,
      "metadata": {
        "id": "rqr36B-BWtgb",
        "outputId": "09162edf-0b2c-4937-c665-552439ae54fa",
        "colab": {
          "base_uri": "https://localhost:8080/"
        }
      },
      "outputs": [
        {
          "output_type": "stream",
          "name": "stdout",
          "text": [
            "Welcome to the game Hangman!\n",
            "I am thinking of a word that is 5 letters long.\n",
            "-------------\n",
            "You have 6 guesses left.\n",
            "Available letters: abcdefghijklmnopqrstuvwxyz\n",
            "Please guess a letter: a\n",
            "Good guess!\n",
            "-------------\n",
            "You have 6 guesses left.\n",
            "Available letters: bcdefghijklmnopqrstuvwxyz\n",
            "Please guess a letter: b\n",
            "Oops! That letter is not in my word.\n",
            "-------------\n",
            "You have 5 guesses left.\n",
            "Available letters: cdefghijklmnopqrstuvwxyz\n",
            "Please guess a letter: c\n",
            "Oops! That letter is not in my word.\n",
            "-------------\n",
            "You have 4 guesses left.\n",
            "Available letters: defghijklmnopqrstuvwxyz\n",
            "Please guess a letter: d\n",
            "Oops! That letter is not in my word.\n",
            "-------------\n",
            "You have 3 guesses left.\n",
            "Available letters: efghijklmnopqrstuvwxyz\n",
            "Please guess a letter: e\n",
            "Good guess!\n",
            "-------------\n",
            "You have 3 guesses left.\n",
            "Available letters: fghijklmnopqrstuvwxyz\n",
            "Please guess a letter: f\n",
            "Oops! That letter is not in my word.\n",
            "-------------\n",
            "You have 2 guesses left.\n",
            "Available letters: ghijklmnopqrstuvwxyz\n",
            "Please guess a letter: g\n",
            "Oops! That letter is not in my word.\n",
            "-------------\n",
            "You have 1 guesses left.\n",
            "Available letters: hijklmnopqrstuvwxyz\n",
            "Please guess a letter: h\n",
            "Oops! That letter is not in my word.\n",
            "-------------\n",
            "Sorry, you ran out of guesses.\n",
            "The word was: apple\n"
          ]
        }
      ],
      "source": [
        "# prompt: # When you've completed your hangman function, test it out to see it is working fine # (hint: you might want to pick your own # secret_word while you're doing your own testing by changing 'apple' to any other string) hangman('apple')\n",
        "\n",
        "def hangman(secret_word):\n",
        "  \"\"\"\n",
        "  Starts up an interactive game of Hangman.\n",
        "\n",
        "  Args:\n",
        "    secret_word: The word the user is guessing (string)\n",
        "\n",
        "  Returns:\n",
        "    None\n",
        "  \"\"\"\n",
        "  guesses_remaining = 6\n",
        "  letters_guessed = []\n",
        "  guessed_word = get_guessed_word(secret_word, letters_guessed)\n",
        "\n",
        "  print('Welcome to the game Hangman!')\n",
        "  print('I am thinking of a word that is {} letters long.'.format(\n",
        "      len(secret_word)))\n",
        "  print('-------------')\n",
        "\n",
        "  while guesses_remaining > 0 and guessed_word != secret_word:\n",
        "    print('You have {} guesses left.'.format(guesses_remaining))\n",
        "    print('Available letters:', get_available_letter(letters_guessed))\n",
        "\n",
        "    guess = input('Please guess a letter: ')\n",
        "    guess = guess.lower()\n",
        "\n",
        "    if guess in letters_guessed:\n",
        "      print('Oops! You already guessed that letter.')\n",
        "    else:\n",
        "      letters_guessed.append(guess)\n",
        "\n",
        "      if guess in secret_word:\n",
        "        print('Good guess!')\n",
        "        guessed_word = get_guessed_word(secret_word, letters_guessed)\n",
        "\n",
        "        if guessed_word == secret_word:\n",
        "          print('Congratulations, you won!')\n",
        "          print('Your total score for this game is:',\n",
        "                guesses_remaining * len(set(secret_word)))\n",
        "          break\n",
        "      else:\n",
        "        if guess in 'aeiou':\n",
        "          guesses_remaining -= 2\n",
        "        else:\n",
        "          guesses_remaining -= 1\n",
        "\n",
        "        print('Oops! That letter is not in my word.')\n",
        "\n",
        "    print('-------------')\n",
        "\n",
        "  if guesses_remaining == 0:\n",
        "    print('Sorry, you ran out of guesses.')\n",
        "    print('The word was:', secret_word)\n",
        "\n",
        "hangman('apple')\n"
      ]
    },
    {
      "cell_type": "markdown",
      "metadata": {
        "id": "ayutll31Wtgc"
      },
      "source": [
        "## Congratulations all of your hardwork paid of, you have just created the Hangman Game<br>\n",
        "**now go ahead and play the game you created, run the cell below**\n",
        "\n"
      ]
    },
    {
      "cell_type": "code",
      "execution_count": 133,
      "metadata": {
        "id": "OXfcylbvWtgc",
        "outputId": "e857bf7e-1901-4259-e495-72da0c7f1304",
        "colab": {
          "base_uri": "https://localhost:8080/",
          "height": 1000
        }
      },
      "outputs": [
        {
          "output_type": "stream",
          "name": "stdout",
          "text": [
            "Welcome to the game Hangman!\n",
            "I am thinking of a word that is 23 letters long.\n",
            "-------------\n",
            "You have 6 guesses left.\n",
            "Available letters: abcdefghijklmnopqrstuvwxyz\n",
            "Please guess a letter: a\n",
            "Oops! That letter is not in my word.\n",
            "-------------\n",
            "You have 4 guesses left.\n",
            "Available letters: bcdefghijklmnopqrstuvwxyz\n",
            "Please guess a letter: b\n",
            "Oops! That letter is not in my word.\n",
            "-------------\n",
            "You have 3 guesses left.\n",
            "Available letters: cdefghijklmnopqrstuvwxyz\n",
            "Please guess a letter: w\n",
            "Oops! That letter is not in my word.\n",
            "-------------\n",
            "You have 2 guesses left.\n",
            "Available letters: cdefghijklmnopqrstuvxyz\n",
            "Please guess a letter: c\n",
            "Oops! That letter is not in my word.\n",
            "-------------\n",
            "You have 1 guesses left.\n",
            "Available letters: defghijklmnopqrstuvxyz\n",
            "Please guess a letter: d\n",
            "Oops! That letter is not in my word.\n",
            "-------------\n",
            "Sorry, you ran out of guesses.\n",
            "The word was: ['army', 'beautiful', 'became', 'if', 'actually', 'beside', 'between', 'come', 'eye', 'five', 'fur', 'imposter', 'problem', 'revenge', 'few', 'circle', 'district', 'trade', 'quota', 'stop', 'depressed', 'disorder', 'dentist']\n",
            "Welcome to the game Hangman!\n",
            "I am thinking of a word that is 3 letters long.\n",
            "-------------\n",
            "You have 6 guesses left.\n",
            "Available letters: abcdefghijklmnopqrstuvwxyz\n",
            "Please guess a letter: a\n",
            "Oops! That letter is not in my word.\n",
            "-------------\n",
            "You have 4 guesses left.\n",
            "Available letters: bcdefghijklmnopqrstuvwxyz\n"
          ]
        },
        {
          "output_type": "error",
          "ename": "KeyboardInterrupt",
          "evalue": "ignored",
          "traceback": [
            "\u001b[0;31m---------------------------------------------------------------------------\u001b[0m",
            "\u001b[0;31mKeyboardInterrupt\u001b[0m                         Traceback (most recent call last)",
            "\u001b[0;32m<ipython-input-133-5fdf446f7d63>\u001b[0m in \u001b[0;36m<cell line: 7>\u001b[0;34m()\u001b[0m\n\u001b[1;32m      5\u001b[0m \u001b[0;32mimport\u001b[0m \u001b[0mrandom\u001b[0m\u001b[0;34m\u001b[0m\u001b[0;34m\u001b[0m\u001b[0m\n\u001b[1;32m      6\u001b[0m \u001b[0mrandom_word\u001b[0m \u001b[0;34m=\u001b[0m \u001b[0mrandom\u001b[0m\u001b[0;34m.\u001b[0m\u001b[0mchoice\u001b[0m\u001b[0;34m(\u001b[0m\u001b[0mwords\u001b[0m\u001b[0;34m)\u001b[0m\u001b[0;34m\u001b[0m\u001b[0;34m\u001b[0m\u001b[0m\n\u001b[0;32m----> 7\u001b[0;31m \u001b[0mhangman\u001b[0m\u001b[0;34m(\u001b[0m\u001b[0mrandom_word\u001b[0m\u001b[0;34m)\u001b[0m\u001b[0;34m\u001b[0m\u001b[0;34m\u001b[0m\u001b[0m\n\u001b[0m",
            "\u001b[0;32m<ipython-input-128-12ac6f83409c>\u001b[0m in \u001b[0;36mhangman\u001b[0;34m(secret_word)\u001b[0m\n\u001b[1;32m     24\u001b[0m     \u001b[0mprint\u001b[0m\u001b[0;34m(\u001b[0m\u001b[0;34m'Available letters:'\u001b[0m\u001b[0;34m,\u001b[0m \u001b[0mget_available_letter\u001b[0m\u001b[0;34m(\u001b[0m\u001b[0mletters_guessed\u001b[0m\u001b[0;34m)\u001b[0m\u001b[0;34m)\u001b[0m\u001b[0;34m\u001b[0m\u001b[0;34m\u001b[0m\u001b[0m\n\u001b[1;32m     25\u001b[0m \u001b[0;34m\u001b[0m\u001b[0m\n\u001b[0;32m---> 26\u001b[0;31m     \u001b[0mguess\u001b[0m \u001b[0;34m=\u001b[0m \u001b[0minput\u001b[0m\u001b[0;34m(\u001b[0m\u001b[0;34m'Please guess a letter: '\u001b[0m\u001b[0;34m)\u001b[0m\u001b[0;34m\u001b[0m\u001b[0;34m\u001b[0m\u001b[0m\n\u001b[0m\u001b[1;32m     27\u001b[0m     \u001b[0mguess\u001b[0m \u001b[0;34m=\u001b[0m \u001b[0mguess\u001b[0m\u001b[0;34m.\u001b[0m\u001b[0mlower\u001b[0m\u001b[0;34m(\u001b[0m\u001b[0;34m)\u001b[0m\u001b[0;34m\u001b[0m\u001b[0;34m\u001b[0m\u001b[0m\n\u001b[1;32m     28\u001b[0m \u001b[0;34m\u001b[0m\u001b[0m\n",
            "\u001b[0;32m/usr/local/lib/python3.10/dist-packages/ipykernel/kernelbase.py\u001b[0m in \u001b[0;36mraw_input\u001b[0;34m(self, prompt)\u001b[0m\n\u001b[1;32m    849\u001b[0m                 \u001b[0;34m\"raw_input was called, but this frontend does not support input requests.\"\u001b[0m\u001b[0;34m\u001b[0m\u001b[0;34m\u001b[0m\u001b[0m\n\u001b[1;32m    850\u001b[0m             )\n\u001b[0;32m--> 851\u001b[0;31m         return self._input_request(str(prompt),\n\u001b[0m\u001b[1;32m    852\u001b[0m             \u001b[0mself\u001b[0m\u001b[0;34m.\u001b[0m\u001b[0m_parent_ident\u001b[0m\u001b[0;34m,\u001b[0m\u001b[0;34m\u001b[0m\u001b[0;34m\u001b[0m\u001b[0m\n\u001b[1;32m    853\u001b[0m             \u001b[0mself\u001b[0m\u001b[0;34m.\u001b[0m\u001b[0m_parent_header\u001b[0m\u001b[0;34m,\u001b[0m\u001b[0;34m\u001b[0m\u001b[0;34m\u001b[0m\u001b[0m\n",
            "\u001b[0;32m/usr/local/lib/python3.10/dist-packages/ipykernel/kernelbase.py\u001b[0m in \u001b[0;36m_input_request\u001b[0;34m(self, prompt, ident, parent, password)\u001b[0m\n\u001b[1;32m    893\u001b[0m             \u001b[0;32mexcept\u001b[0m \u001b[0mKeyboardInterrupt\u001b[0m\u001b[0;34m:\u001b[0m\u001b[0;34m\u001b[0m\u001b[0;34m\u001b[0m\u001b[0m\n\u001b[1;32m    894\u001b[0m                 \u001b[0;31m# re-raise KeyboardInterrupt, to truncate traceback\u001b[0m\u001b[0;34m\u001b[0m\u001b[0;34m\u001b[0m\u001b[0m\n\u001b[0;32m--> 895\u001b[0;31m                 \u001b[0;32mraise\u001b[0m \u001b[0mKeyboardInterrupt\u001b[0m\u001b[0;34m(\u001b[0m\u001b[0;34m\"Interrupted by user\"\u001b[0m\u001b[0;34m)\u001b[0m \u001b[0;32mfrom\u001b[0m \u001b[0;32mNone\u001b[0m\u001b[0;34m\u001b[0m\u001b[0;34m\u001b[0m\u001b[0m\n\u001b[0m\u001b[1;32m    896\u001b[0m             \u001b[0;32mexcept\u001b[0m \u001b[0mException\u001b[0m \u001b[0;32mas\u001b[0m \u001b[0me\u001b[0m\u001b[0;34m:\u001b[0m\u001b[0;34m\u001b[0m\u001b[0;34m\u001b[0m\u001b[0m\n\u001b[1;32m    897\u001b[0m                 \u001b[0mself\u001b[0m\u001b[0;34m.\u001b[0m\u001b[0mlog\u001b[0m\u001b[0;34m.\u001b[0m\u001b[0mwarning\u001b[0m\u001b[0;34m(\u001b[0m\u001b[0;34m\"Invalid Message:\"\u001b[0m\u001b[0;34m,\u001b[0m \u001b[0mexc_info\u001b[0m\u001b[0;34m=\u001b[0m\u001b[0;32mTrue\u001b[0m\u001b[0;34m)\u001b[0m\u001b[0;34m\u001b[0m\u001b[0;34m\u001b[0m\u001b[0m\n",
            "\u001b[0;31mKeyboardInterrupt\u001b[0m: Interrupted by user"
          ]
        }
      ],
      "source": [
        "# prompt: words = ['army', 'beautiful', 'became', 'if', 'actually', 'beside', 'between','come','eye','five','fur','imposter', 'problem' ,'revenge' ,'few' ,'circle' ,'district','trade','quota','stop','depressed','disorder','dentist']  #choose a random word from list using random.choice() function random_word =  #check you function hangman(random_word)\n",
        "words = ['army', 'beautiful', 'became', 'if', 'actually', 'beside', 'between','come','eye','five','fur','imposter', 'problem' ,'revenge' ,'few' ,'circle' ,'district','trade','quota','stop','depressed','disorder','dentist']\n",
        "#check you function\n",
        "hangman(words)\n",
        "import random\n",
        "random_word = random.choice(words)\n",
        "hangman(random_word)"
      ]
    },
    {
      "cell_type": "markdown",
      "metadata": {
        "id": "62faCBcTWtgc"
      },
      "source": [
        "--------------------------------------\n",
        "Wohooo! You did a really good job. We hope you enjoyed your first mini python project here.\n",
        "\n",
        "We understand it was bit challenging and time taking, but it's worth it, coz here you are to achieve your goal and this course will help you in all posible way to make your dreams come true.\n",
        "\n"
      ]
    },
    {
      "cell_type": "markdown",
      "metadata": {
        "id": "8p3Ruyw6Wtgc"
      },
      "source": [
        "\n",
        "\n",
        "----------------------------------------------------------------------"
      ]
    },
    {
      "cell_type": "markdown",
      "metadata": {
        "id": "JiGSsuwaWtgd"
      },
      "source": [
        "# Bam!, you completed the second milestone challenge too:)!!"
      ]
    },
    {
      "cell_type": "markdown",
      "metadata": {
        "id": "ME6IJ3pOWtgd"
      },
      "source": [
        "# FeedBack\n",
        "We hope you’ve enjoyed this course so far. We’re committed to help you use \"AI for All\" course to its full potential, so that you have a great learning experience. And that’s why we need your help in form of a feedback here.\n",
        "\n",
        "Please fill this feedback form https://docs.google.com/forms/d/e/1FAIpQLSfjBmH0yJSSA34IhSVx4h2eDMgOAeG4Dk-yHid__NMTk3Hq5g/viewform"
      ]
    }
  ],
  "metadata": {
    "kernelspec": {
      "display_name": "Python 3",
      "language": "python",
      "name": "python3"
    },
    "language_info": {
      "codemirror_mode": {
        "name": "ipython",
        "version": 3
      },
      "file_extension": ".py",
      "mimetype": "text/x-python",
      "name": "python",
      "nbconvert_exporter": "python",
      "pygments_lexer": "ipython3",
      "version": "3.8.5"
    },
    "colab": {
      "provenance": []
    }
  },
  "nbformat": 4,
  "nbformat_minor": 0
}